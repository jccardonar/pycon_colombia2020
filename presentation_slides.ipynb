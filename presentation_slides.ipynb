{
 "cells": [
  {
   "cell_type": "code",
   "execution_count": 1,
   "metadata": {
    "slideshow": {
     "slide_type": "skip"
    },
    "urth": {
     "dashboard": {
      "layout": {
       "col": 4,
       "height": 4,
       "row": 0,
       "width": 4
      }
     }
    }
   },
   "outputs": [],
   "source": [
    "# Next code is used to personalize the slides format. \n",
    "# The customization of the slides was not working for RISE after resuming the presentation, check issue \n",
    "# https://github.com/damianavila/RISE/issues/225\n",
    "#from traitlets.config.manager import BaseJSONConfigManager\n",
    "#path = \"/Users/camilocardona/anaconda/etc/jupyter/nbconfig\"\n",
    "#cm = BaseJSONConfigManager(config_dir=path)\n",
    "#cm.update('livereveal', {\n",
    "#              'theme': 'serif',\n",
    "#              'transition': 'None',\n",
    "#              'start_slideshow_at': 'selected',\n",
    "#})"
   ]
  },
  {
   "cell_type": "code",
   "execution_count": 3,
   "metadata": {
    "slideshow": {
     "slide_type": "skip"
    },
    "urth": {
     "dashboard": {}
    }
   },
   "outputs": [],
   "source": [
    "import ipywidgets as widgets\n",
    "import json\n",
    "import qgrid\n",
    "from IPython.display import display \n",
    "from IPython.display import Image\n",
    "import pandas as pd\n",
    "import matplotlib.pyplot as plt\n",
    "import ipympl\n",
    "%matplotlib widget\n",
    "from json_browswer import json_browser"
   ]
  },
  {
   "cell_type": "code",
   "execution_count": 3,
   "metadata": {
    "slideshow": {
     "slide_type": "skip"
    }
   },
   "outputs": [],
   "source": [
    "# Please decompress before running this command!\n",
    "traffic_matrix = pd.read_pickle(\"traffic_matrix.pickle\")"
   ]
  },
  {
   "cell_type": "markdown",
   "metadata": {
    "collapsed": true,
    "slideshow": {
     "slide_type": "slide"
    },
    "urth": {
     "dashboard": {
      "layout": {
       "col": 0,
       "height": 9,
       "row": 18,
       "width": 12
      }
     }
    }
   },
   "source": [
    "<h1>Construyendo Dashboards interactivos en\n",
    "Jupyter Notebooks</h1>\n",
    "<p><strong>Juan Camilo Cardona</strong></p>\n",
    "<strong>NTT</strong>\n",
    "<p>&nbsp;</p>\n",
    "<p>&nbsp;</p>\n"
   ]
  },
  {
   "cell_type": "markdown",
   "metadata": {
    "slideshow": {
     "slide_type": "slide"
    }
   },
   "source": [
    "# Objetivos de la presentación\n",
    "\n",
    "* Demostrar como construir dashboard interactivos en jupyter.\n",
    "    * Con Botones, cajas de texto, grafiquitos que cambian, etc. \n",
    "* Ilustrar la flexibilidad del sistema para crear dashboards relativamente complejos \n",
    "* Discutir los alcances potenciales de la solución\n",
    "    * Aunque no sea el framework de UI ideal, puede ser muy util en ciertos casos. Prototipos o proyectos con exigencias sencillas"
   ]
  },
  {
   "cell_type": "markdown",
   "metadata": {
    "collapsed": true,
    "slideshow": {
     "slide_type": "slide"
    },
    "urth": {
     "dashboard": {
      "layout": {
       "col": 0,
       "height": 7,
       "row": 27,
       "width": 12
      }
     }
    }
   },
   "source": [
    "# Cúal es el problema?\n",
    "\n",
    "* Si trabajamos con datos, eventualmente haremos parte de un proyecto que requiera un ambiente grafico interactivo  (i.e. UI) con el usuario final:\n",
    "    * Modificar parámetros de optimización\n",
    "    * Explorar los datos, agrupar, filtrar, etc.\n",
    "    * Operar directamente el sistema en un ambiente grafico"
   ]
  },
  {
   "cell_type": "markdown",
   "metadata": {
    "slideshow": {
     "slide_type": "subslide"
    }
   },
   "source": [
    "# Cúal es el problema?\n",
    "\n",
    "* Los frameworks de UI son muy potentes, pero pocas veces tenemos control sobre ellos:\n",
    "    * E.g. Nadie en el equipo conoce de UI\n",
    "    * E.g. Necesitamos dinero para contratar a los expertos de UI, pero necesitamos un prototipo para venderlo \n",
    "    * E.g. Tenemos gente de UI, pero no es facil trabajar con ellos para hacer prototipos y recibir feedback rápido"
   ]
  },
  {
   "cell_type": "markdown",
   "metadata": {
    "slideshow": {
     "slide_type": "slide"
    }
   },
   "source": [
    "# Cómo resolver el problema?\n",
    "\n",
    "* Aprender un framework de UI\n",
    "    * Pros? Puede ser bueno para mi carrera, me gustaria aprender del tema, podre ser útil en el equipo.\n",
    "    * Cons? No tengo tiempo, no me agrada, no se cual tecnología escoger.\n"
   ]
  },
  {
   "cell_type": "markdown",
   "metadata": {
    "slideshow": {
     "slide_type": "subslide"
    }
   },
   "source": [
    "# Cómo resolver el problema?\n",
    "* Utilizar a jupyter directamente como dashboard\n",
    "    * Pros? Me permite fácilmente tener algo listo para evaluación del grupo o uso en proyectos no muy exigentes.\n",
    "    * Cons? (Opinión  propia) No brinda todas las garantías para ser el UI del diseño final."
   ]
  },
  {
   "cell_type": "markdown",
   "metadata": {
    "slideshow": {
     "slide_type": "slide"
    },
    "urth": {
     "dashboard": {
      "layout": {
       "col": 0,
       "height": 5,
       "row": 48,
       "width": 12
      }
     }
    }
   },
   "source": [
    "# Propuesta\n",
    "\n",
    "* Jupyter\n",
    "* Ipywidgets (jupyter-widgets). Otros widgets especiales (e.g. Jupyter-matplotlib).\n",
    "* Voila\n",
    "\n",
    "<span style=\"color:#800000\">(Bokeh dashboards, Dash u otras tecnologias pueden ofrecer una alternativa)</span>"
   ]
  },
  {
   "cell_type": "markdown",
   "metadata": {
    "slideshow": {
     "slide_type": "slide"
    },
    "urth": {
     "dashboard": {
      "layout": {
       "col": 0,
       "height": 5,
       "row": 53,
       "width": 12
      }
     }
    }
   },
   "source": [
    "\n",
    "# Ipywidgets (jupyter-widgets)\n",
    "* Provee elementos (widgets) interactivos para Jupyter\n",
    "    * Including Buttons, Text fields, HTML fields, etc."
   ]
  },
  {
   "cell_type": "code",
   "execution_count": 1,
   "metadata": {
    "slideshow": {
     "slide_type": "fragment"
    },
    "urth": {
     "dashboard": {
      "layout": {
       "col": 4,
       "height": 4,
       "row": 4,
       "width": 4
      }
     }
    }
   },
   "outputs": [
    {
     "ename": "NameError",
     "evalue": "name 'widgets' is not defined",
     "output_type": "error",
     "traceback": [
      "\u001b[0;31m---------------------------------------------------------------------------\u001b[0m",
      "\u001b[0;31mNameError\u001b[0m                                 Traceback (most recent call last)",
      "\u001b[0;32m<ipython-input-1-e072e4da0666>\u001b[0m in \u001b[0;36m<module>\u001b[0;34m\u001b[0m\n\u001b[0;32m----> 1\u001b[0;31m \u001b[0mbutton_widget\u001b[0m \u001b[0;34m=\u001b[0m \u001b[0mwidgets\u001b[0m\u001b[0;34m.\u001b[0m\u001b[0mButton\u001b[0m\u001b[0;34m(\u001b[0m\u001b[0mdescription\u001b[0m\u001b[0;34m=\u001b[0m\u001b[0;34m\"Un Boton\"\u001b[0m\u001b[0;34m)\u001b[0m\u001b[0;34m\u001b[0m\u001b[0;34m\u001b[0m\u001b[0m\n\u001b[0m\u001b[1;32m      2\u001b[0m \u001b[0mdisplay\u001b[0m\u001b[0;34m(\u001b[0m\u001b[0mbutton_widget\u001b[0m\u001b[0;34m)\u001b[0m\u001b[0;34m\u001b[0m\u001b[0;34m\u001b[0m\u001b[0m\n",
      "\u001b[0;31mNameError\u001b[0m: name 'widgets' is not defined"
     ]
    }
   ],
   "source": [
    "button_widget = widgets.Button(description=\"Un Boton\")\n",
    "display(button_widget)"
   ]
  },
  {
   "cell_type": "code",
   "execution_count": 5,
   "metadata": {
    "slideshow": {
     "slide_type": "fragment"
    },
    "urth": {
     "dashboard": {
      "layout": {
       "col": 8,
       "height": 4,
       "row": 4,
       "width": 4
      }
     }
    }
   },
   "outputs": [
    {
     "data": {
      "application/vnd.jupyter.widget-view+json": {
       "model_id": "674791b2969b48fb893c60e2f5c677d7",
       "version_major": 2,
       "version_minor": 0
      },
      "text/plain": [
       "Text(value='Text box 2')"
      ]
     },
     "metadata": {},
     "output_type": "display_data"
    }
   ],
   "source": [
    "widgets.Text(value=\"Text box 2\")"
   ]
  },
  {
   "cell_type": "code",
   "execution_count": 6,
   "metadata": {
    "slideshow": {
     "slide_type": "subslide"
    }
   },
   "outputs": [
    {
     "data": {
      "application/vnd.jupyter.widget-view+json": {
       "model_id": "103cff1ddafe4f39827d898aba48b83d",
       "version_major": 2,
       "version_minor": 0
      },
      "text/plain": [
       "IntSlider(value=0)"
      ]
     },
     "metadata": {},
     "output_type": "display_data"
    }
   ],
   "source": [
    "slider = widgets.IntSlider()\n",
    "display(slider)"
   ]
  },
  {
   "cell_type": "markdown",
   "metadata": {
    "slideshow": {
     "slide_type": "subslide"
    }
   },
   "source": [
    "# Ipywidgets (jupyter-widgets)\n",
    "* Existen muchos otros. Miraremos algunos en el resto de la presentación.\n",
    "* Listas de widgets:\n",
    "    * https://ipywidgets.readthedocs.io/en/latest/examples/Widget%20List.html\n",
    "    * https://jupyter.org/widgets\n",
    "* Existen proyectos independientes para otros widgets   "
   ]
  },
  {
   "cell_type": "markdown",
   "metadata": {
    "slideshow": {
     "slide_type": "slide"
    },
    "urth": {
     "dashboard": {
      "layout": {
       "col": 0,
       "height": 5,
       "row": 58,
       "width": 12
      }
     }
    }
   },
   "source": [
    "# Container widgets\n",
    "\n",
    "* Existen widgets especiales para \"contener\" los widgets (container widgets).\n",
    "    * E.g. AppLayout, Grids. Boxes, Tabs, o acordeon.\n",
    "* Los contenedores también  son widgets. Por lo tanto pueden tener otros como hijos\n",
    "    * Asi que se pueden componer \"dashboards\" complejos con jerarquías  de contenedores.\n"
   ]
  },
  {
   "cell_type": "code",
   "execution_count": 7,
   "metadata": {
    "slideshow": {
     "slide_type": "subslide"
    },
    "urth": {
     "dashboard": {
      "layout": {
       "col": 4,
       "height": 4,
       "row": 8,
       "width": 4
      }
     }
    }
   },
   "outputs": [],
   "source": [
    "# redefine the buttons and text box, to avoid any problem.\n",
    "button_1 = widgets.Button(description=\"Button1\")\n",
    "text_1 = widgets.Text(value=\"text1\")\n",
    "button_2 = widgets.Button(description=\"Button2\")\n",
    "text_2 = widgets.Text(value=\"text2\")"
   ]
  },
  {
   "cell_type": "code",
   "execution_count": 8,
   "metadata": {
    "slideshow": {
     "slide_type": "subslide"
    },
    "urth": {
     "dashboard": {
      "layout": {
       "col": 0,
       "height": 4,
       "row": 63,
       "width": 11
      }
     }
    }
   },
   "outputs": [
    {
     "data": {
      "application/vnd.jupyter.widget-view+json": {
       "model_id": "2a7686abfa6446ab9bb859db517b1ad8",
       "version_major": 2,
       "version_minor": 0
      },
      "text/plain": [
       "Tab(children=(VBox(children=(Button(description='Button1', style=ButtonStyle()), Text(value='text1'))), HBox(c…"
      ]
     },
     "metadata": {},
     "output_type": "display_data"
    }
   ],
   "source": [
    "# button_1, button_2, text_1, text_2 were defined in other cell.\n",
    "box_1 = widgets.VBox((button_1, text_1))\n",
    "box_2 = widgets.HBox((button_2, text_2))\n",
    "tab_widget = widgets.Tab((box_1, box_2), _titles={0: \"V\", 1:\"H\"})\n",
    "display(tab_widget)"
   ]
  },
  {
   "cell_type": "code",
   "execution_count": 9,
   "metadata": {
    "slideshow": {
     "slide_type": "subslide"
    }
   },
   "outputs": [
    {
     "data": {
      "application/vnd.jupyter.widget-view+json": {
       "model_id": "64870f667f544ba58cff26cfe07d4961",
       "version_major": 2,
       "version_minor": 0
      },
      "text/plain": [
       "AppLayout(children=(Button(description='header', layout=Layout(grid_area='header'), style=ButtonStyle()), Butt…"
      ]
     },
     "metadata": {},
     "output_type": "display_data"
    }
   ],
   "source": [
    "# Vamos ahora a incrustrar el anterior componente, y otros más, en una appLayout.\n",
    "header = widgets.Button(description=\"header\")\n",
    "footer = widgets.Button(description=\"footer\")\n",
    "left = widgets.Button(description=\"left\")\n",
    "right = widgets.Button(description=\"right\")\n",
    "app = widgets.AppLayout(center=tab_widget, header=header, \n",
    "                        footer=footer, left_sidebar=left, right_sidebar=right,\n",
    "                        align_items='center'\n",
    "                       )\n",
    "display(app)\n"
   ]
  },
  {
   "cell_type": "code",
   "execution_count": 10,
   "metadata": {
    "slideshow": {
     "slide_type": "subslide"
    }
   },
   "outputs": [
    {
     "data": {
      "application/vnd.jupyter.widget-view+json": {
       "model_id": "b303f606376f465da4bc64c87de2d408",
       "version_major": 2,
       "version_minor": 0
      },
      "text/plain": [
       "Tab(children=(Button(description='Titulo', style=ButtonStyle()), AppLayout(children=(Button(description='heade…"
      ]
     },
     "metadata": {},
     "output_type": "display_data"
    }
   ],
   "source": [
    "widgets.Tab((widgets.Button(description=\"Titulo\"), app), _titles={0: \"Titulo\", 1:\"APP\"})"
   ]
  },
  {
   "cell_type": "markdown",
   "metadata": {
    "slideshow": {
     "slide_type": "slide"
    }
   },
   "source": [
    "# Cómo ajustar visualmente los widgets?\n",
    "\n",
    "* Los widgets (probablemente casi todos) aceptan un layout que permite controlar su tamaño, color, etc.\n",
    "* El layout también puede controlar como los widgets contenedores agrupan a sus hijos.\n",
    "* Tip: Puede ser frustrante obtener lo que deseas."
   ]
  },
  {
   "cell_type": "code",
   "execution_count": 11,
   "metadata": {
    "slideshow": {
     "slide_type": "subslide"
    }
   },
   "outputs": [
    {
     "data": {
      "application/vnd.jupyter.widget-view+json": {
       "model_id": "6f01205d5bbf4b38b22d64be08f6ccac",
       "version_major": 2,
       "version_minor": 0
      },
      "text/plain": [
       "Button(description='Long button', layout=Layout(width='400px'), style=ButtonStyle())"
      ]
     },
     "metadata": {},
     "output_type": "display_data"
    }
   ],
   "source": [
    "widgets.Button(description=\"Long button\", layout=widgets.Layout(width='400px'))"
   ]
  },
  {
   "cell_type": "code",
   "execution_count": 12,
   "metadata": {
    "slideshow": {
     "slide_type": "-"
    }
   },
   "outputs": [
    {
     "data": {
      "application/vnd.jupyter.widget-view+json": {
       "model_id": "04aa6ba1f1cf43f794668fdf6d3c78bb",
       "version_major": 2,
       "version_minor": 0
      },
      "text/plain": [
       "HBox(children=(Button(description='B1', style=ButtonStyle()), Button(description='B2', style=ButtonStyle())), …"
      ]
     },
     "metadata": {},
     "output_type": "display_data"
    }
   ],
   "source": [
    "lo = widgets.Layout(width='600px', justify_content='space-around', border='solid')\n",
    "widgets.HBox((widgets.Button(description=\"B1\"), widgets.Button(description=\"B2\")), layout=lo)"
   ]
  },
  {
   "cell_type": "markdown",
   "metadata": {
    "slideshow": {
     "slide_type": "slide"
    },
    "urth": {
     "dashboard": {
      "layout": {
       "col": 0,
       "height": 4,
       "row": 67,
       "width": 12
      }
     }
    }
   },
   "source": [
    "# Interación con los widgets\n",
    "* Se definen callbacks. Es decir, se registran funciones que se invocan cuando se ejecuta un acción.\n"
   ]
  },
  {
   "cell_type": "code",
   "execution_count": 13,
   "metadata": {
    "slideshow": {
     "slide_type": "subslide"
    },
    "urth": {
     "dashboard": {
      "layout": {
       "col": 8,
       "height": 4,
       "row": 8,
       "width": 4
      }
     }
    }
   },
   "outputs": [
    {
     "data": {
      "application/vnd.jupyter.widget-view+json": {
       "model_id": "d46d9ce539064088b96abd4e6bcbc84b",
       "version_major": 2,
       "version_minor": 0
      },
      "text/plain": [
       "HBox(children=(Button(description='Habilitar texto', style=ButtonStyle()), Text(value='Caja de texto')))"
      ]
     },
     "metadata": {},
     "output_type": "display_data"
    }
   ],
   "source": [
    "boton = widgets.Button(description=\"Habilitar texto\")\n",
    "caja_de_texto = widgets.Text(value=\"Caja de texto\")\n",
    "\n",
    "def habilitar_texto(caller=None):\n",
    "    caja_de_texto.disabled = False\n",
    "        \n",
    "def desabilitar_texto(caller=None):\n",
    "    caller['owner'].disabled = True\n",
    "\n",
    "boton.on_click(habilitar_texto)\n",
    "caja_de_texto.observe(desabilitar_texto, names=\"value\")\n",
    "\n",
    "display(widgets.HBox((boton, caja_de_texto)))"
   ]
  },
  {
   "cell_type": "markdown",
   "metadata": {
    "slideshow": {
     "slide_type": "slide"
    },
    "urth": {
     "dashboard": {}
    }
   },
   "source": [
    "# Como representar figuras?\n",
    "\n",
    "* Una opción es [**Jupyter-matplotlib**](https://github.com/matplotlib/jupyter-matplotlib) \n",
    "    * Un widget para figuras matplotlib\n",
    "* Existen alternativas como [bqplot](https://github.com/bloomberg/bqplot).\n",
    "* Requiere instalación adicional, y puede requerir de un poco más de conocimiento"
   ]
  },
  {
   "cell_type": "code",
   "execution_count": 4,
   "metadata": {
    "slideshow": {
     "slide_type": "subslide"
    },
    "urth": {
     "dashboard": {
      "layout": {
       "col": 0,
       "height": 14,
       "row": 71,
       "width": 4
      }
     }
    }
   },
   "outputs": [
    {
     "data": {
      "application/vnd.jupyter.widget-view+json": {
       "model_id": "cd17384dc9ec4e25b9dff5dfbbda27b8",
       "version_major": 2,
       "version_minor": 0
      },
      "text/plain": [
       "Canvas(toolbar=Toolbar(toolitems=[('Home', 'Reset original view', 'home', 'home'), ('Back', 'Back to previous …"
      ]
     },
     "metadata": {},
     "output_type": "display_data"
    },
    {
     "data": {
      "application/vnd.jupyter.widget-view+json": {
       "model_id": "493e9e6050964dd082ba695c489acc7a",
       "version_major": 2,
       "version_minor": 0
      },
      "text/plain": [
       "HBox(children=(HBox(children=(Canvas(toolbar=Toolbar(toolitems=[('Home', 'Reset original view', 'home', 'home'…"
      ]
     },
     "metadata": {},
     "output_type": "display_data"
    }
   ],
   "source": [
    "figure, axis = plt.subplots()\n",
    "figure.set_size_inches([ 6,  3 ])\n",
    "button_mpl = widgets.Button(description=\"Clear Figure\")\n",
    "button_mpl.on_click(lambda _: (axis.clear(), plt.draw_all()))\n",
    "button_mpl_2 = widgets.Button(description=\"Draw Figure\")\n",
    "button_mpl_2.on_click(lambda _: (axis.plot([0, 1, 2, 1]), plt.draw_all()))\n",
    "axis.plot([0, 1, 2, 1])\n",
    "box = widgets.HBox(children=(widgets.HBox((figure.canvas,)),button_mpl, button_mpl_2,))\n",
    "display(box)"
   ]
  },
  {
   "cell_type": "code",
   "execution_count": 16,
   "metadata": {
    "slideshow": {
     "slide_type": "skip"
    }
   },
   "outputs": [
    {
     "data": {
      "application/vnd.jupyter.widget-view+json": {
       "model_id": "5ba9fe30051644238efe28fe352f9795",
       "version_major": 2,
       "version_minor": 0
      },
      "text/plain": [
       "TwoByTwoLayout(children=(Button(description='Clear Figure', layout=Layout(grid_area='top-left'), style=ButtonS…"
      ]
     },
     "metadata": {},
     "output_type": "display_data"
    }
   ],
   "source": [
    "# Pongamos lo anterior en otro widget para demostrar de nuevo la componibilidad\n",
    "app = widgets.TwoByTwoLayout(top_left=button_mpl,\n",
    "                     bottom_left=button_mpl_2,\n",
    "                     bottom_right=figure.canvas,\n",
    "                     align_items=\"center\",\n",
    "                     height='400px')\n",
    "display(app)"
   ]
  },
  {
   "cell_type": "markdown",
   "metadata": {
    "slideshow": {
     "slide_type": "slide"
    }
   },
   "source": [
    "# Como representar dataframes\n",
    "* Utilizando el widget HTML.\n",
    "    * Junto con [df styling](https://pandas.pydata.org/pandas-docs/stable/user_guide/style.html) o con df.to_html(). \n",
    "* Utilizando el widget Output.\n",
    "* Para mayor funcionalidad, hay otras alterativas:\n",
    "    * https://github.com/quantopian/qgrid\n",
    "    * https://dgothrek.gitlab.io/ipyaggrid/\n",
    "    * https://github.com/QuantStack/ipysheet"
   ]
  },
  {
   "cell_type": "code",
   "execution_count": 17,
   "metadata": {
    "scrolled": true,
    "slideshow": {
     "slide_type": "subslide"
    }
   },
   "outputs": [
    {
     "data": {
      "application/vnd.jupyter.widget-view+json": {
       "model_id": "541e4859ac3c45efac23d4dc7618c893",
       "version_major": 2,
       "version_minor": 0
      },
      "text/plain": [
       "HTML(value='<style  type=\"text/css\" >\\n    #T_37a662e2_49c0_11ea_b066_3af9d378ec91 tr:hover {\\n          backg…"
      ]
     },
     "metadata": {},
     "output_type": "display_data"
    }
   ],
   "source": [
    "df = traffic_matrix[:10]\n",
    "df2 = traffic_matrix[10:20]\n",
    "from  traffic_browser import hover\n",
    "wg1 = widgets.HTML(df.style.set_table_attributes('class=\\\"table\\\"').set_table_styles([hover()]).render())\n",
    "wg2 = widgets.HTML(df2.style.set_table_attributes('class=\\\"table\\\"').set_table_styles([hover()]).render())\n",
    "display(wg2)"
   ]
  },
  {
   "cell_type": "code",
   "execution_count": 18,
   "metadata": {
    "slideshow": {
     "slide_type": "skip"
    }
   },
   "outputs": [
    {
     "data": {
      "application/vnd.jupyter.widget-view+json": {
       "model_id": "d4ca4e6cb41b4676989ae970f60718d5",
       "version_major": 2,
       "version_minor": 0
      },
      "text/plain": [
       "HBox(children=(HTML(value='<style  type=\"text/css\" >\\n    #T_37a526ac_49c0_11ea_b066_3af9d378ec91 tr:hover {\\n…"
      ]
     },
     "metadata": {},
     "output_type": "display_data"
    }
   ],
   "source": [
    "box_layout = widgets.Layout(display='flex',\n",
    "                    flex_flow='column',\n",
    "                    align_items='stretch',\n",
    "                    border='solid',\n",
    "                    width='100%')\n",
    "box_layout = widgets.Layout(display='flex',\n",
    "                    border='solid',\n",
    "                    width='100%')\n",
    "box = widgets.HBox([wg1, wg2], layout=box_layout)\n",
    "display(box)"
   ]
  },
  {
   "cell_type": "code",
   "execution_count": 19,
   "metadata": {
    "slideshow": {
     "slide_type": "subslide"
    }
   },
   "outputs": [
    {
     "data": {
      "application/vnd.jupyter.widget-view+json": {
       "model_id": "1b5d95001c34406eaa52aa8442a6b93a",
       "version_major": 2,
       "version_minor": 0
      },
      "text/plain": [
       "HBox(children=(Output(), Output()))"
      ]
     },
     "metadata": {},
     "output_type": "display_data"
    }
   ],
   "source": [
    "# Tomado de https://stackoverflow.com/questions/26873127/show-dataframe-as-table-in-ipython-notebook\n",
    "# create output widgets\n",
    "widget1 = widgets.Output()\n",
    "widget2 = widgets.Output()\n",
    "# render in output widgets\n",
    "with widget1:\n",
    "    display(df)\n",
    "with widget2:\n",
    "    display(df2)\n",
    "# create HBox\n",
    "hbox = widgets.HBox([widget1, widget2])\n",
    "# render hbox\n",
    "hbox"
   ]
  },
  {
   "cell_type": "code",
   "execution_count": 20,
   "metadata": {
    "slideshow": {
     "slide_type": "skip"
    }
   },
   "outputs": [],
   "source": [
    "# Ejemplo de uso de qgrid (se debe instalar antes).\n",
    "# Termino escondida porque afectaba otros widgets.\n",
    "#gr = qgrid.show_grid(df)\n",
    "#display(widgets.HBox(children=[gr]))"
   ]
  },
  {
   "cell_type": "markdown",
   "metadata": {
    "slideshow": {
     "slide_type": "slide"
    }
   },
   "source": [
    "# Ejemplos: Navegador de JSON"
   ]
  },
  {
   "cell_type": "code",
   "execution_count": 21,
   "metadata": {
    "slideshow": {
     "slide_type": "subslide"
    }
   },
   "outputs": [],
   "source": [
    "json_ejemplo = '''{\n",
    "  \"Nivel1\": {\n",
    "      \"Nivel2\": {\n",
    "          \"Valor1\": \"Nivel2-Valor1\",\n",
    "          \"Valor2\": \"Nivel2-Valor2\",\n",
    "          \"Nivel3\": {\n",
    "              \"Valor1\": \"Nivel3-Valor1\"\n",
    "          }\n",
    "      },\n",
    "      \"Valor1\": \"Nivel1-Valor1\"\n",
    "  }\n",
    "}'''"
   ]
  },
  {
   "cell_type": "code",
   "execution_count": 22,
   "metadata": {
    "slideshow": {
     "slide_type": "fragment"
    }
   },
   "outputs": [
    {
     "data": {
      "application/vnd.jupyter.widget-view+json": {
       "model_id": "c2524ef8b3c34ee0868442edd560bc84",
       "version_major": 2,
       "version_minor": 0
      },
      "text/plain": [
       "HBox(children=(SelectMultiple(layout=Layout(height='282.0px', min_height='282.0px', min_width='300px', width='…"
      ]
     },
     "metadata": {},
     "output_type": "display_data"
    }
   ],
   "source": [
    "json_browser(json.loads(json_ejemplo))"
   ]
  },
  {
   "cell_type": "code",
   "execution_count": 23,
   "metadata": {
    "slideshow": {
     "slide_type": "skip"
    }
   },
   "outputs": [],
   "source": [
    "# The next jsons are \"fake\" configurations for all routers.\n",
    "# I took the model from https://github.com/CiscoDevNet/openconfig-getting-started/blob/master/models/bgp/\n",
    "bgp_json = '''\n",
    "{\n",
    " \"bgp:bgp\": {\n",
    "  \"global\": {\n",
    "   \"state\": {\n",
    "    \"as\": 65001,\n",
    "    \"total-paths\": 2,\n",
    "    \"total-prefixes\": 2\n",
    "   },\n",
    "   \"afi-safis\": {\n",
    "    \"afi-safi\": [\n",
    "     {\n",
    "      \"afi-safi-name\": \"ipv4-unicast\",\n",
    "      \"state\": {\n",
    "       \"afi-safi-name\": \"ipv4-unicast\",\n",
    "       \"enabled\": true,\n",
    "       \"total-paths\": 2,\n",
    "       \"total-prefixes\": 2\n",
    "      }\n",
    "     }\n",
    "    ]\n",
    "   }\n",
    "  },\n",
    "  \"peer-groups\": {\n",
    "   \"peer-group\": [\n",
    "    {\n",
    "     \"peer-group-name\": \"IBGP\",\n",
    "     \"state\": {\n",
    "      \"peer-group-name\": \"IBGP\",\n",
    "      \"peer-as\": 65001\n",
    "     },\n",
    "     \"transport\": {\n",
    "      \"state\": {\n",
    "       \"local-address\": \"Loopback0\"\n",
    "      }\n",
    "     },\n",
    "     \"afi-safis\": {\n",
    "      \"afi-safi\": [\n",
    "       {\n",
    "        \"afi-safi-name\": \"ipv4-unicast\",\n",
    "        \"state\": {\n",
    "         \"afi-safi-name\": \"ipv4-unicast\",\n",
    "         \"enabled\": true\n",
    "        },\n",
    "        \"apply-policy\": {\n",
    "         \"state\": {\n",
    "          \"export-policy\": [\n",
    "           \"POLICY2\"\n",
    "          ]\n",
    "         }\n",
    "        }\n",
    "       }\n",
    "      ]\n",
    "     }\n",
    "    }\n",
    "   ]\n",
    "  },\n",
    "  \"neighbors\": {\n",
    "   \"neighbor\": [\n",
    "    {\n",
    "     \"neighbor-address\": \"172.16.255.3\",\n",
    "     \"state\": {\n",
    "      \"neighbor-address\": \"172.16.255.3\",\n",
    "      \"peer-group\": \"IBGP\",\n",
    "      \"queues\": {\n",
    "       \"input\": 0,\n",
    "       \"output\": 0\n",
    "      },\n",
    "      \"session-state\": \"bgp-st-estab\",\n",
    "      \"supported-capabilities\": [\n",
    "       \"MPBGP\"\n",
    "      ],\n",
    "      \"messages\": {\n",
    "       \"sent\": {\n",
    "        \"NOTIFICATION\": 0,\n",
    "        \"UPDATE\": 1\n",
    "       },\n",
    "       \"received\": {\n",
    "        \"NOTIFICATION\": 0,\n",
    "        \"UPDATE\": 3\n",
    "       }\n",
    "      }\n",
    "     },\n",
    "     \"transport\": {\n",
    "      \"state\": {\n",
    "       \"local-port\": 21344,\n",
    "       \"remote-address\": \"172.16.255.3\",\n",
    "       \"remote-port\": 179\n",
    "      }\n",
    "     },\n",
    "     \"timers\": {\n",
    "      \"state\": {\n",
    "       \"negotiated-hold-time\": 180\n",
    "      }\n",
    "     },\n",
    "     \"afi-safis\": {\n",
    "      \"afi-safi\": [\n",
    "       {\n",
    "        \"afi-safi-name\": \"ipv4-unicast\",\n",
    "        \"state\": {\n",
    "         \"active\": true,\n",
    "         \"prefixes\": {\n",
    "          \"received\": 2,\n",
    "          \"sent\": 0\n",
    "         }\n",
    "        }\n",
    "       }\n",
    "      ]\n",
    "     },\n",
    "     \"graceful-restart\": {\n",
    "      \"state\": {\n",
    "       \"peer-restart-time\": 120\n",
    "      }\n",
    "     }\n",
    "    }\n",
    "   ]\n",
    "  }\n",
    " }\n",
    "}\n",
    "'''"
   ]
  },
  {
   "cell_type": "code",
   "execution_count": 24,
   "metadata": {
    "slideshow": {
     "slide_type": "skip"
    }
   },
   "outputs": [
    {
     "data": {
      "application/vnd.jupyter.widget-view+json": {
       "model_id": "135b28570cea4aaa9bf63c34b5d26e90",
       "version_major": 2,
       "version_minor": 0
      },
      "text/plain": [
       "HBox(children=(SelectMultiple(layout=Layout(height='282.0px', min_height='282.0px', min_width='300px', width='…"
      ]
     },
     "metadata": {},
     "output_type": "display_data"
    }
   ],
   "source": [
    "json_browser(json.loads(bgp_json))"
   ]
  },
  {
   "cell_type": "markdown",
   "metadata": {
    "slideshow": {
     "slide_type": "slide"
    }
   },
   "source": [
    "# Explorador de tráfico"
   ]
  },
  {
   "cell_type": "code",
   "execution_count": 25,
   "metadata": {
    "slideshow": {
     "slide_type": "subslide"
    }
   },
   "outputs": [
    {
     "data": {
      "application/vnd.jupyter.widget-view+json": {
       "model_id": "8cac08aed0124f8b8c4ba6a9e1d41656",
       "version_major": 2,
       "version_minor": 0
      },
      "text/plain": [
       "VBox(children=(VBox(children=(HBox(children=(HBox(children=(Checkbox(value=False, description='DST_AS'), Check…"
      ]
     },
     "metadata": {},
     "output_type": "display_data"
    }
   ],
   "source": [
    "import traffic_browser\n",
    "traffic_browser.ts_widget(traffic_matrix, top_flows_to_show=5, align_vertically=False, \n",
    "          time_column=\"TIME\", value_column=\"BW\")"
   ]
  },
  {
   "cell_type": "markdown",
   "metadata": {
    "slideshow": {
     "slide_type": "subslide"
    }
   },
   "source": [
    "Hay muchos más ejemplos en https://voila-gallery.org/\n",
    "\n",
    "(Si hay tiempo y forma miraremos el dashboard de https://github.com/seidlr/voila-interactive-football-pitch)"
   ]
  },
  {
   "cell_type": "markdown",
   "metadata": {
    "slideshow": {
     "slide_type": "slide"
    }
   },
   "source": [
    "# Cómo publicar los dashboards?\n",
    "\n",
    "* [Voilà](https://github.com/voila-dashboards/voila) es la proyecto recomendado para publicar dashboards.\n",
    "* Para proyectos muy pequeños, o personales, se pueden ejecutar directamente el notebook o el jupyterlab.\n"
   ]
  },
  {
   "cell_type": "markdown",
   "metadata": {
    "slideshow": {
     "slide_type": "subslide"
    }
   },
   "source": [
    "# Voilà\n",
    "\n",
    "* Voilà ejecuta el notebook, y representa el **output** de las celdas del notebook. Ignora las que no tienen ningún output.\n",
    "    * Por ahora, Voilà representa las celdas solo en el orden original.\n",
    "    * Hay planes para aumentar la flexibilidad de posición de celdas, pero no esta listo aún. \n",
    "        * Mirar [voila-gridstack](https://github.com/voila-dashboards/voila-gridstack)\n",
    "* Cada usuario obtiene un kernel dedicado."
   ]
  },
  {
   "cell_type": "markdown",
   "metadata": {
    "slideshow": {
     "slide_type": "slide"
    },
    "urth": {
     "dashboard": {
      "layout": {
       "col": 8,
       "height": 4,
       "row": 0,
       "width": 4
      }
     }
    }
   },
   "source": [
    "# Experiencia personal\n",
    "\n",
    "* Muy adecuado para prototipos y proyectos de alcance corto.\n",
    "* Suficientes opciones para mostrar texto, graficos, y tablas\n",
    "* Los he utilizado para:\n",
    "    * Explorar datos jerarquicos\n",
    "    * Crear pequeños prototipos de productos"
   ]
  },
  {
   "cell_type": "markdown",
   "metadata": {
    "slideshow": {
     "slide_type": "skip"
    }
   },
   "source": [
    "# Conclusiones\n",
    "En prototipos, lo perfecto es el enemigo del progreso.\n",
    "\n",
    "Algunos de estas librerias/widgets pueden tener limitantes técnicas.\n",
    "\n",
    "Utilicen suficiente tiempo para expresar ideas, pero no exageren.\n"
   ]
  },
  {
   "cell_type": "markdown",
   "metadata": {
    "collapsed": true,
    "slideshow": {
     "slide_type": "slide"
    }
   },
   "source": [
    "# Preguntas?\n",
    "Código en https://github.com/jccardonar/pycon_colombia2020\n",
    "    \n",
    "Referencias futuras:\n",
    "    * https://twitter.com/SylvainCorlay\n",
    "    * https://gitter.im/QuantStack/Lobby"
   ]
  }
 ],
 "metadata": {
  "celltoolbar": "Slideshow",
  "kernelspec": {
   "display_name": "Python 3",
   "language": "python",
   "name": "python3"
  },
  "language_info": {
   "codemirror_mode": {
    "name": "ipython",
    "version": 3
   },
   "file_extension": ".py",
   "mimetype": "text/x-python",
   "name": "python",
   "nbconvert_exporter": "python",
   "pygments_lexer": "ipython3",
   "version": "3.7.4"
  },
  "urth": {
   "dashboard": {
    "cellMargin": 10,
    "defaultCellHeight": 20,
    "layoutStrategy": "packed",
    "maxColumns": 12
   }
  }
 },
 "nbformat": 4,
 "nbformat_minor": 2
}
