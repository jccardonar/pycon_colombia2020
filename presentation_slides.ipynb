{
 "cells": [
  {
   "cell_type": "code",
   "execution_count": 2,
   "metadata": {
    "slideshow": {
     "slide_type": "skip"
    },
    "urth": {
     "dashboard": {
      "layout": {
       "col": 4,
       "height": 4,
       "row": 0,
       "width": 4
      }
     }
    }
   },
   "outputs": [],
   "source": [
    "# Next code is used to personalize the slides format. \n",
    "# The customization of the slides was not working for RISE after resuming the presentation, check issue \n",
    "# https://github.com/damianavila/RISE/issues/225\n",
    "#from traitlets.config.manager import BaseJSONConfigManager\n",
    "#path = \"/Users/camilocardona/anaconda/etc/jupyter/nbconfig\"\n",
    "#cm = BaseJSONConfigManager(config_dir=path)\n",
    "#cm.update('livereveal', {\n",
    "#              'theme': 'serif',\n",
    "#              'transition': 'None',\n",
    "#              'start_slideshow_at': 'selected',\n",
    "#})"
   ]
  },
  {
   "cell_type": "code",
   "execution_count": 3,
   "metadata": {
    "slideshow": {
     "slide_type": "skip"
    },
    "urth": {
     "dashboard": {}
    }
   },
   "outputs": [
    {
     "name": "stderr",
     "output_type": "stream",
     "text": [
      "/Users/camilo/.pyenv/versions/3.7.4/lib/python3.7/site-packages/pandas/compat/__init__.py:85: UserWarning: Could not import the lzma module. Your installed Python is incomplete. Attempting to use lzma compression will result in a RuntimeError.\n",
      "  warnings.warn(msg)\n",
      "/Users/camilo/.pyenv/versions/3.7.4/lib/python3.7/site-packages/pandas/compat/__init__.py:85: UserWarning: Could not import the lzma module. Your installed Python is incomplete. Attempting to use lzma compression will result in a RuntimeError.\n",
      "  warnings.warn(msg)\n"
     ]
    }
   ],
   "source": [
    "import ipywidgets as widgets\n",
    "import json\n",
    "import qgrid\n",
    "from IPython.display import display \n",
    "from IPython.display import Image\n",
    "import pandas as pd\n",
    "import ipympl\n",
    "import matplotlib.pyplot as plt\n",
    "#import matplotlib.pyplot as plt\n",
    "#import ipympl\n",
    "plt.ioff()\n",
    "#%matplotlib widget\n",
    "from json_browswer import json_browser"
   ]
  },
  {
   "cell_type": "code",
   "execution_count": 4,
   "metadata": {
    "slideshow": {
     "slide_type": "skip"
    }
   },
   "outputs": [
    {
     "data": {
      "text/plain": [
       "ipympl.backend_nbagg.Canvas"
      ]
     },
     "execution_count": 4,
     "metadata": {},
     "output_type": "execute_result"
    }
   ],
   "source": [
    "figure, axis = plt.subplots()\n",
    "type(figure.canvas)"
   ]
  },
  {
   "cell_type": "code",
   "execution_count": 5,
   "metadata": {
    "slideshow": {
     "slide_type": "skip"
    }
   },
   "outputs": [],
   "source": [
    "# Please decompress before running this command!\n",
    "traffic_matrix = pd.read_pickle(\"traffic_matrix.pickle\")"
   ]
  },
  {
   "cell_type": "markdown",
   "metadata": {
    "collapsed": true,
    "slideshow": {
     "slide_type": "slide"
    },
    "urth": {
     "dashboard": {
      "layout": {
       "col": 0,
       "height": 9,
       "row": 18,
       "width": 12
      }
     }
    }
   },
   "source": [
    "<h1>Construyendo Dashboards interactivos en\n",
    "Jupyter Notebooks</h1>\n",
    "<p><strong>Juan Camilo Cardona</strong></p>\n",
    "<strong>NTT</strong>\n",
    "<p>&nbsp;</p>\n",
    "<p>&nbsp;</p>\n"
   ]
  },
  {
   "cell_type": "markdown",
   "metadata": {
    "slideshow": {
     "slide_type": "slide"
    }
   },
   "source": [
    "# Objetivos de la presentación\n",
    "\n",
    "* Demostrar como construir dashboard interactivos en jupyter.\n",
    "    * Con Botones, cajas de texto, grafiquitos que cambian, etc. \n",
    "* Ilustrar la flexibilidad del sistema para crear dashboards relativamente complejos \n",
    "* Discutir los alcances potenciales de la solución\n",
    "    * Aunque no sea el framework de UI ideal, puede ser muy util en ciertos casos. Prototipos o proyectos con exigencias sencillas"
   ]
  },
  {
   "cell_type": "markdown",
   "metadata": {
    "collapsed": true,
    "slideshow": {
     "slide_type": "slide"
    },
    "urth": {
     "dashboard": {
      "layout": {
       "col": 0,
       "height": 7,
       "row": 27,
       "width": 12
      }
     }
    }
   },
   "source": [
    "# Cúal es el problema?\n",
    "\n",
    "* Si trabajamos con datos, eventualmente haremos parte de un proyecto que requiera un ambiente grafico interactivo  (i.e. UI) con el usuario final:\n",
    "    * Modificar parámetros de optimización\n",
    "    * Explorar los datos, agrupar, filtrar, etc.\n",
    "    * Operar directamente el sistema en un ambiente grafico"
   ]
  },
  {
   "cell_type": "markdown",
   "metadata": {
    "slideshow": {
     "slide_type": "subslide"
    }
   },
   "source": [
    "# Cúal es el problema?\n",
    "\n",
    "* Los frameworks de UI son muy potentes, pero pocas veces tenemos control sobre ellos:\n",
    "    * E.g. Nadie en el equipo conoce de UI\n",
    "    * E.g. Necesitamos dinero para contratar a los expertos de UI, pero necesitamos un prototipo para venderlo \n",
    "    * E.g. Tenemos gente de UI, pero no es facil trabajar con ellos para hacer prototipos y recibir feedback rápido"
   ]
  },
  {
   "cell_type": "markdown",
   "metadata": {
    "slideshow": {
     "slide_type": "slide"
    }
   },
   "source": [
    "# Cómo resolver el problema?\n",
    "\n",
    "* Aprender un framework de UI\n",
    "    * Pros? Puede ser bueno para mi carrera, me gustaria aprender del tema, podre ser útil en el equipo.\n",
    "    * Cons? No tengo tiempo, no me agrada, no se cual tecnología escoger.\n"
   ]
  },
  {
   "cell_type": "markdown",
   "metadata": {
    "slideshow": {
     "slide_type": "subslide"
    }
   },
   "source": [
    "# Cómo resolver el problema?\n",
    "* Utilizar a jupyter directamente como dashboard\n",
    "    * Pros? Me permite fácilmente tener algo listo para evaluación del grupo o uso en proyectos no muy exigentes.\n",
    "    * Cons? (Opinión  propia) No brinda todas las garantías para ser el UI del diseño final."
   ]
  },
  {
   "cell_type": "markdown",
   "metadata": {
    "slideshow": {
     "slide_type": "slide"
    },
    "urth": {
     "dashboard": {
      "layout": {
       "col": 0,
       "height": 5,
       "row": 48,
       "width": 12
      }
     }
    }
   },
   "source": [
    "# Propuesta\n",
    "\n",
    "* Jupyter\n",
    "* Ipywidgets (jupyter-widgets). Otros widgets especiales (e.g. Jupyter-matplotlib).\n",
    "* Voila\n",
    "\n",
    "<span style=\"color:#800000\">(Bokeh dashboards, Dash u otras tecnologias pueden ofrecer una alternativa)</span>"
   ]
  },
  {
   "cell_type": "markdown",
   "metadata": {
    "slideshow": {
     "slide_type": "slide"
    },
    "urth": {
     "dashboard": {
      "layout": {
       "col": 0,
       "height": 5,
       "row": 53,
       "width": 12
      }
     }
    }
   },
   "source": [
    "\n",
    "# Ipywidgets (jupyter-widgets)\n",
    "* Provee elementos (widgets) interactivos para Jupyter\n",
    "    * Including Buttons, Text fields, HTML fields, etc."
   ]
  },
  {
   "cell_type": "code",
   "execution_count": 6,
   "metadata": {
    "slideshow": {
     "slide_type": "fragment"
    },
    "urth": {
     "dashboard": {
      "layout": {
       "col": 4,
       "height": 4,
       "row": 4,
       "width": 4
      }
     }
    }
   },
   "outputs": [
    {
     "data": {
      "application/vnd.jupyter.widget-view+json": {
       "model_id": "4038767ac1264587ad4999ec09410ea4",
       "version_major": 2,
       "version_minor": 0
      },
      "text/plain": [
       "Button(description='Un Boton', style=ButtonStyle())"
      ]
     },
     "metadata": {},
     "output_type": "display_data"
    }
   ],
   "source": [
    "button_widget = widgets.Button(description=\"Un Boton\")\n",
    "display(button_widget)"
   ]
  },
  {
   "cell_type": "code",
   "execution_count": 7,
   "metadata": {
    "slideshow": {
     "slide_type": "fragment"
    },
    "urth": {
     "dashboard": {
      "layout": {
       "col": 8,
       "height": 4,
       "row": 4,
       "width": 4
      }
     }
    }
   },
   "outputs": [
    {
     "data": {
      "application/vnd.jupyter.widget-view+json": {
       "model_id": "160035d6a3834866afe24555cb51c0cb",
       "version_major": 2,
       "version_minor": 0
      },
      "text/plain": [
       "Text(value='Text box 2')"
      ]
     },
     "metadata": {},
     "output_type": "display_data"
    }
   ],
   "source": [
    "widgets.Text(value=\"Text box 2\")"
   ]
  },
  {
   "cell_type": "code",
   "execution_count": 8,
   "metadata": {
    "slideshow": {
     "slide_type": "subslide"
    }
   },
   "outputs": [
    {
     "data": {
      "application/vnd.jupyter.widget-view+json": {
       "model_id": "5e0a6952f8db455181536b50ca9b28f5",
       "version_major": 2,
       "version_minor": 0
      },
      "text/plain": [
       "IntSlider(value=0)"
      ]
     },
     "metadata": {},
     "output_type": "display_data"
    }
   ],
   "source": [
    "slider = widgets.IntSlider()\n",
    "display(slider)"
   ]
  },
  {
   "cell_type": "markdown",
   "metadata": {
    "slideshow": {
     "slide_type": "subslide"
    }
   },
   "source": [
    "# Ipywidgets (jupyter-widgets)\n",
    "* Existen muchos otros. Miraremos algunos en el resto de la presentación.\n",
    "* Listas de widgets:\n",
    "    * https://ipywidgets.readthedocs.io/en/latest/examples/Widget%20List.html\n",
    "    * https://jupyter.org/widgets\n",
    "* Existen proyectos independientes para otros widgets   "
   ]
  },
  {
   "cell_type": "markdown",
   "metadata": {
    "slideshow": {
     "slide_type": "slide"
    },
    "urth": {
     "dashboard": {
      "layout": {
       "col": 0,
       "height": 5,
       "row": 58,
       "width": 12
      }
     }
    }
   },
   "source": [
    "# Container widgets\n",
    "\n",
    "* Existen widgets especiales para \"contener\" los widgets (container widgets).\n",
    "    * E.g. AppLayout, Grids. Boxes, Tabs, o acordeon.\n",
    "* Los contenedores también  son widgets. Por lo tanto pueden tener otros como hijos\n",
    "    * Asi que se pueden componer \"dashboards\" complejos con jerarquías  de contenedores.\n"
   ]
  },
  {
   "cell_type": "code",
   "execution_count": 9,
   "metadata": {
    "slideshow": {
     "slide_type": "subslide"
    },
    "urth": {
     "dashboard": {
      "layout": {
       "col": 4,
       "height": 4,
       "row": 8,
       "width": 4
      }
     }
    }
   },
   "outputs": [],
   "source": [
    "# redefine the buttons and text box, to avoid any problem.\n",
    "button_1 = widgets.Button(description=\"Button1\")\n",
    "text_1 = widgets.Text(value=\"text1\")\n",
    "button_2 = widgets.Button(description=\"Button2\")\n",
    "text_2 = widgets.Text(value=\"text2\")"
   ]
  },
  {
   "cell_type": "code",
   "execution_count": 10,
   "metadata": {
    "slideshow": {
     "slide_type": "subslide"
    },
    "urth": {
     "dashboard": {
      "layout": {
       "col": 0,
       "height": 4,
       "row": 63,
       "width": 11
      }
     }
    }
   },
   "outputs": [
    {
     "data": {
      "application/vnd.jupyter.widget-view+json": {
       "model_id": "16dd927767bf4d1aaf91bd17dc460c9c",
       "version_major": 2,
       "version_minor": 0
      },
      "text/plain": [
       "Tab(children=(VBox(children=(Button(description='Button1', style=ButtonStyle()), Text(value='text1'))), HBox(c…"
      ]
     },
     "metadata": {},
     "output_type": "display_data"
    }
   ],
   "source": [
    "# button_1, button_2, text_1, text_2 were defined in other cell.\n",
    "box_1 = widgets.VBox((button_1, text_1))\n",
    "box_2 = widgets.HBox((button_2, text_2))\n",
    "tab_widget = widgets.Tab((box_1, box_2), _titles={0: \"V\", 1:\"H\"})\n",
    "display(tab_widget)"
   ]
  },
  {
   "cell_type": "code",
   "execution_count": 11,
   "metadata": {
    "slideshow": {
     "slide_type": "subslide"
    }
   },
   "outputs": [
    {
     "data": {
      "application/vnd.jupyter.widget-view+json": {
       "model_id": "6f1865c89f2648a99ff5dfd7cf324544",
       "version_major": 2,
       "version_minor": 0
      },
      "text/plain": [
       "AppLayout(children=(Button(description='header', layout=Layout(grid_area='header'), style=ButtonStyle()), Butt…"
      ]
     },
     "metadata": {},
     "output_type": "display_data"
    }
   ],
   "source": [
    "# Vamos ahora a incrustrar el anterior componente, y otros más, en una appLayout.\n",
    "header = widgets.Button(description=\"header\")\n",
    "footer = widgets.Button(description=\"footer\")\n",
    "left = widgets.Button(description=\"left\")\n",
    "right = widgets.Button(description=\"right\")\n",
    "app = widgets.AppLayout(center=tab_widget, header=header, \n",
    "                        footer=footer, left_sidebar=left, right_sidebar=right,\n",
    "                        align_items='center'\n",
    "                       )\n",
    "display(app)\n"
   ]
  },
  {
   "cell_type": "code",
   "execution_count": 12,
   "metadata": {
    "slideshow": {
     "slide_type": "subslide"
    }
   },
   "outputs": [
    {
     "data": {
      "application/vnd.jupyter.widget-view+json": {
       "model_id": "067fa3ce557e4dd3aed337f67aca9ae7",
       "version_major": 2,
       "version_minor": 0
      },
      "text/plain": [
       "Tab(children=(Button(description='Titulo', style=ButtonStyle()), AppLayout(children=(Button(description='heade…"
      ]
     },
     "metadata": {},
     "output_type": "display_data"
    }
   ],
   "source": [
    "widgets.Tab((widgets.Button(description=\"Titulo\"), app), _titles={0: \"Titulo\", 1:\"APP\"})"
   ]
  },
  {
   "cell_type": "markdown",
   "metadata": {
    "slideshow": {
     "slide_type": "slide"
    }
   },
   "source": [
    "# Cómo ajustar visualmente los widgets?\n",
    "\n",
    "* Los widgets (probablemente casi todos) aceptan un layout que permite controlar su tamaño, color, etc.\n",
    "* El layout también puede controlar como los widgets contenedores agrupan a sus hijos.\n",
    "* Tip: Puede ser frustrante obtener lo que deseas."
   ]
  },
  {
   "cell_type": "code",
   "execution_count": 13,
   "metadata": {
    "slideshow": {
     "slide_type": "subslide"
    }
   },
   "outputs": [
    {
     "data": {
      "application/vnd.jupyter.widget-view+json": {
       "model_id": "63347261a66b4a91ae19d1f44b3bbab4",
       "version_major": 2,
       "version_minor": 0
      },
      "text/plain": [
       "Button(description='Long button', layout=Layout(width='400px'), style=ButtonStyle())"
      ]
     },
     "metadata": {},
     "output_type": "display_data"
    }
   ],
   "source": [
    "widgets.Button(description=\"Long button\", layout=widgets.Layout(width='400px'))"
   ]
  },
  {
   "cell_type": "code",
   "execution_count": 14,
   "metadata": {
    "slideshow": {
     "slide_type": "-"
    }
   },
   "outputs": [
    {
     "data": {
      "application/vnd.jupyter.widget-view+json": {
       "model_id": "e0b905f98b29401998db0228d0b289fe",
       "version_major": 2,
       "version_minor": 0
      },
      "text/plain": [
       "HBox(children=(Button(description='B1', style=ButtonStyle()), Button(description='B2', style=ButtonStyle())), …"
      ]
     },
     "metadata": {},
     "output_type": "display_data"
    }
   ],
   "source": [
    "lo = widgets.Layout(width='600px', justify_content='space-around', border='solid')\n",
    "widgets.HBox((widgets.Button(description=\"B1\"), widgets.Button(description=\"B2\")), layout=lo)"
   ]
  },
  {
   "cell_type": "markdown",
   "metadata": {
    "slideshow": {
     "slide_type": "slide"
    },
    "urth": {
     "dashboard": {
      "layout": {
       "col": 0,
       "height": 4,
       "row": 67,
       "width": 12
      }
     }
    }
   },
   "source": [
    "# Interación con los widgets\n",
    "* Se definen callbacks. Es decir, se registran funciones que se invocan cuando se ejecuta un acción.\n"
   ]
  },
  {
   "cell_type": "code",
   "execution_count": 15,
   "metadata": {
    "slideshow": {
     "slide_type": "subslide"
    },
    "urth": {
     "dashboard": {
      "layout": {
       "col": 8,
       "height": 4,
       "row": 8,
       "width": 4
      }
     }
    }
   },
   "outputs": [
    {
     "data": {
      "application/vnd.jupyter.widget-view+json": {
       "model_id": "730d3d8dbbd0423fbcd7a8107c3ef811",
       "version_major": 2,
       "version_minor": 0
      },
      "text/plain": [
       "HBox(children=(Button(description='Habilitar texto', style=ButtonStyle()), Text(value='Caja de texto')))"
      ]
     },
     "metadata": {},
     "output_type": "display_data"
    }
   ],
   "source": [
    "boton = widgets.Button(description=\"Habilitar texto\")\n",
    "caja_de_texto = widgets.Text(value=\"Caja de texto\")\n",
    "\n",
    "def habilitar_texto(caller=None):\n",
    "    caja_de_texto.disabled = False\n",
    "        \n",
    "def desabilitar_texto(caller=None):\n",
    "    caller['owner'].disabled = True\n",
    "\n",
    "boton.on_click(habilitar_texto)\n",
    "caja_de_texto.observe(desabilitar_texto, names=\"value\")\n",
    "\n",
    "display(widgets.HBox((boton, caja_de_texto)))"
   ]
  },
  {
   "cell_type": "markdown",
   "metadata": {
    "slideshow": {
     "slide_type": "slide"
    },
    "urth": {
     "dashboard": {}
    }
   },
   "source": [
    "# Como representar figuras?\n",
    "\n",
    "* Una opción es [**Jupyter-matplotlib**](https://github.com/matplotlib/jupyter-matplotlib) \n",
    "    * Un widget para figuras matplotlib\n",
    "* Existen alternativas como [bqplot](https://github.com/bloomberg/bqplot).\n",
    "* Requiere instalación adicional, y puede requerir de un poco más de conocimiento"
   ]
  },
  {
   "cell_type": "code",
   "execution_count": 16,
   "metadata": {
    "slideshow": {
     "slide_type": "subslide"
    },
    "urth": {
     "dashboard": {
      "layout": {
       "col": 0,
       "height": 14,
       "row": 71,
       "width": 4
      }
     }
    }
   },
   "outputs": [
    {
     "data": {
      "application/vnd.jupyter.widget-view+json": {
       "model_id": "99f043dade384cc5b8e929f5c9bf00de",
       "version_major": 2,
       "version_minor": 0
      },
      "text/plain": [
       "HBox(children=(HBox(children=(Canvas(toolbar=Toolbar(toolitems=[('Home', 'Reset original view', 'home', 'home'…"
      ]
     },
     "metadata": {},
     "output_type": "display_data"
    }
   ],
   "source": [
    "figure, axis = plt.subplots()\n",
    "figure.set_size_inches([ 6,  3 ])\n",
    "button_mpl = widgets.Button(description=\"Clear Figure\")\n",
    "button_mpl.on_click(lambda _: (axis.clear(), plt.draw_all()))\n",
    "button_mpl_2 = widgets.Button(description=\"Draw Figure\")\n",
    "button_mpl_2.on_click(lambda _: (axis.plot([0, 1, 2, 1]), plt.draw_all()))\n",
    "axis.plot([0, 1, 2, 1])\n",
    "box = widgets.HBox(children=(widgets.HBox((figure.canvas,)),button_mpl, button_mpl_2,))\n",
    "display(box)"
   ]
  },
  {
   "cell_type": "code",
   "execution_count": 17,
   "metadata": {
    "slideshow": {
     "slide_type": "skip"
    }
   },
   "outputs": [
    {
     "data": {
      "application/vnd.jupyter.widget-view+json": {
       "model_id": "62273fa9805b46b9ac7f63523392209e",
       "version_major": 2,
       "version_minor": 0
      },
      "text/plain": [
       "TwoByTwoLayout(children=(Button(description='Clear Figure', layout=Layout(grid_area='top-left'), style=ButtonS…"
      ]
     },
     "metadata": {},
     "output_type": "display_data"
    }
   ],
   "source": [
    "# Pongamos lo anterior en otro widget para demostrar de nuevo la componibilidad\n",
    "app = widgets.TwoByTwoLayout(top_left=button_mpl,\n",
    "                     bottom_left=button_mpl_2,\n",
    "                     bottom_right=figure.canvas,\n",
    "                     align_items=\"center\",\n",
    "                     height='400px')\n",
    "display(app)"
   ]
  },
  {
   "cell_type": "markdown",
   "metadata": {
    "slideshow": {
     "slide_type": "slide"
    }
   },
   "source": [
    "# Como representar dataframes\n",
    "* Utilizando el widget HTML.\n",
    "    * Junto con [df styling](https://pandas.pydata.org/pandas-docs/stable/user_guide/style.html) o con df.to_html(). \n",
    "* Utilizando el widget Output.\n",
    "* Para mayor funcionalidad, hay otras alterativas:\n",
    "    * https://github.com/quantopian/qgrid\n",
    "    * https://dgothrek.gitlab.io/ipyaggrid/\n",
    "    * https://github.com/QuantStack/ipysheet"
   ]
  },
  {
   "cell_type": "code",
   "execution_count": 18,
   "metadata": {
    "scrolled": true,
    "slideshow": {
     "slide_type": "subslide"
    }
   },
   "outputs": [
    {
     "data": {
      "application/vnd.jupyter.widget-view+json": {
       "model_id": "568dfa8da482413faf791e93e8bed4ae",
       "version_major": 2,
       "version_minor": 0
      },
      "text/plain": [
       "HTML(value='<style  type=\"text/css\" >\\n    #T_86c3329c_4a06_11ea_909f_3af9d378ec91 tr:hover {\\n          backg…"
      ]
     },
     "metadata": {},
     "output_type": "display_data"
    }
   ],
   "source": [
    "df = traffic_matrix[:10]\n",
    "df2 = traffic_matrix[10:20]\n",
    "from  traffic_browser import hover\n",
    "wg1 = widgets.HTML(df.style.set_table_attributes('class=\\\"table\\\"').set_table_styles([hover()]).render())\n",
    "wg2 = widgets.HTML(df2.style.set_table_attributes('class=\\\"table\\\"').set_table_styles([hover()]).render())\n",
    "display(wg2)"
   ]
  },
  {
   "cell_type": "code",
   "execution_count": 19,
   "metadata": {
    "slideshow": {
     "slide_type": "skip"
    }
   },
   "outputs": [
    {
     "data": {
      "application/vnd.jupyter.widget-view+json": {
       "model_id": "8cf8afd9da4244c8bfb0e6af8f05d601",
       "version_major": 2,
       "version_minor": 0
      },
      "text/plain": [
       "HBox(children=(HTML(value='<style  type=\"text/css\" >\\n    #T_86c191a8_4a06_11ea_909f_3af9d378ec91 tr:hover {\\n…"
      ]
     },
     "metadata": {},
     "output_type": "display_data"
    }
   ],
   "source": [
    "box_layout = widgets.Layout(display='flex',\n",
    "                    flex_flow='column',\n",
    "                    align_items='stretch',\n",
    "                    border='solid',\n",
    "                    width='100%')\n",
    "box_layout = widgets.Layout(display='flex',\n",
    "                    border='solid',\n",
    "                    width='100%')\n",
    "box = widgets.HBox([wg1, wg2], layout=box_layout)\n",
    "display(box)"
   ]
  },
  {
   "cell_type": "code",
   "execution_count": 20,
   "metadata": {
    "slideshow": {
     "slide_type": "subslide"
    }
   },
   "outputs": [
    {
     "data": {
      "application/vnd.jupyter.widget-view+json": {
       "model_id": "f0e389d5f4b142cabfeed627c0c3de15",
       "version_major": 2,
       "version_minor": 0
      },
      "text/plain": [
       "HBox(children=(Output(), Output()))"
      ]
     },
     "metadata": {},
     "output_type": "display_data"
    }
   ],
   "source": [
    "# Tomado de https://stackoverflow.com/questions/26873127/show-dataframe-as-table-in-ipython-notebook\n",
    "# create output widgets\n",
    "widget1 = widgets.Output()\n",
    "widget2 = widgets.Output()\n",
    "# render in output widgets\n",
    "with widget1:\n",
    "    display(df)\n",
    "with widget2:\n",
    "    display(df2)\n",
    "# create HBox\n",
    "hbox = widgets.HBox([widget1, widget2])\n",
    "# render hbox\n",
    "hbox"
   ]
  },
  {
   "cell_type": "code",
   "execution_count": 21,
   "metadata": {
    "slideshow": {
     "slide_type": "skip"
    }
   },
   "outputs": [],
   "source": [
    "# Ejemplo de uso de qgrid (se debe instalar antes).\n",
    "# Termino escondida porque afectaba otros widgets.\n",
    "#gr = qgrid.show_grid(df)\n",
    "#display(widgets.HBox(children=[gr]))"
   ]
  },
  {
   "cell_type": "markdown",
   "metadata": {
    "slideshow": {
     "slide_type": "slide"
    }
   },
   "source": [
    "# Ejemplos: Navegador de JSON"
   ]
  },
  {
   "cell_type": "code",
   "execution_count": 22,
   "metadata": {
    "slideshow": {
     "slide_type": "subslide"
    }
   },
   "outputs": [],
   "source": [
    "json_ejemplo = '''{\n",
    "  \"Nivel1\": {\n",
    "      \"Nivel2\": {\n",
    "          \"Valor1\": \"Nivel2-Valor1\",\n",
    "          \"Valor2\": \"Nivel2-Valor2\",\n",
    "          \"Nivel3\": {\n",
    "              \"Valor1\": \"Nivel3-Valor1\"\n",
    "          }\n",
    "      },\n",
    "      \"Valor1\": \"Nivel1-Valor1\"\n",
    "  }\n",
    "}'''"
   ]
  },
  {
   "cell_type": "code",
   "execution_count": 23,
   "metadata": {
    "slideshow": {
     "slide_type": "fragment"
    }
   },
   "outputs": [
    {
     "data": {
      "application/vnd.jupyter.widget-view+json": {
       "model_id": "d29ad633b06a403ab786851ba32606fc",
       "version_major": 2,
       "version_minor": 0
      },
      "text/plain": [
       "HBox(children=(SelectMultiple(layout=Layout(height='282.0px', min_height='282.0px', min_width='300px', width='…"
      ]
     },
     "metadata": {},
     "output_type": "display_data"
    }
   ],
   "source": [
    "json_browser(json.loads(json_ejemplo))"
   ]
  },
  {
   "cell_type": "code",
   "execution_count": 24,
   "metadata": {
    "slideshow": {
     "slide_type": "skip"
    }
   },
   "outputs": [],
   "source": [
    "# The next jsons are \"fake\" configurations for all routers.\n",
    "# I took the model from https://github.com/CiscoDevNet/openconfig-getting-started/blob/master/models/bgp/\n",
    "bgp_json = '''\n",
    "{\n",
    " \"bgp:bgp\": {\n",
    "  \"global\": {\n",
    "   \"state\": {\n",
    "    \"as\": 65001,\n",
    "    \"total-paths\": 2,\n",
    "    \"total-prefixes\": 2\n",
    "   },\n",
    "   \"afi-safis\": {\n",
    "    \"afi-safi\": [\n",
    "     {\n",
    "      \"afi-safi-name\": \"ipv4-unicast\",\n",
    "      \"state\": {\n",
    "       \"afi-safi-name\": \"ipv4-unicast\",\n",
    "       \"enabled\": true,\n",
    "       \"total-paths\": 2,\n",
    "       \"total-prefixes\": 2\n",
    "      }\n",
    "     }\n",
    "    ]\n",
    "   }\n",
    "  },\n",
    "  \"peer-groups\": {\n",
    "   \"peer-group\": [\n",
    "    {\n",
    "     \"peer-group-name\": \"IBGP\",\n",
    "     \"state\": {\n",
    "      \"peer-group-name\": \"IBGP\",\n",
    "      \"peer-as\": 65001\n",
    "     },\n",
    "     \"transport\": {\n",
    "      \"state\": {\n",
    "       \"local-address\": \"Loopback0\"\n",
    "      }\n",
    "     },\n",
    "     \"afi-safis\": {\n",
    "      \"afi-safi\": [\n",
    "       {\n",
    "        \"afi-safi-name\": \"ipv4-unicast\",\n",
    "        \"state\": {\n",
    "         \"afi-safi-name\": \"ipv4-unicast\",\n",
    "         \"enabled\": true\n",
    "        },\n",
    "        \"apply-policy\": {\n",
    "         \"state\": {\n",
    "          \"export-policy\": [\n",
    "           \"POLICY2\"\n",
    "          ]\n",
    "         }\n",
    "        }\n",
    "       }\n",
    "      ]\n",
    "     }\n",
    "    }\n",
    "   ]\n",
    "  },\n",
    "  \"neighbors\": {\n",
    "   \"neighbor\": [\n",
    "    {\n",
    "     \"neighbor-address\": \"172.16.255.3\",\n",
    "     \"state\": {\n",
    "      \"neighbor-address\": \"172.16.255.3\",\n",
    "      \"peer-group\": \"IBGP\",\n",
    "      \"queues\": {\n",
    "       \"input\": 0,\n",
    "       \"output\": 0\n",
    "      },\n",
    "      \"session-state\": \"bgp-st-estab\",\n",
    "      \"supported-capabilities\": [\n",
    "       \"MPBGP\"\n",
    "      ],\n",
    "      \"messages\": {\n",
    "       \"sent\": {\n",
    "        \"NOTIFICATION\": 0,\n",
    "        \"UPDATE\": 1\n",
    "       },\n",
    "       \"received\": {\n",
    "        \"NOTIFICATION\": 0,\n",
    "        \"UPDATE\": 3\n",
    "       }\n",
    "      }\n",
    "     },\n",
    "     \"transport\": {\n",
    "      \"state\": {\n",
    "       \"local-port\": 21344,\n",
    "       \"remote-address\": \"172.16.255.3\",\n",
    "       \"remote-port\": 179\n",
    "      }\n",
    "     },\n",
    "     \"timers\": {\n",
    "      \"state\": {\n",
    "       \"negotiated-hold-time\": 180\n",
    "      }\n",
    "     },\n",
    "     \"afi-safis\": {\n",
    "      \"afi-safi\": [\n",
    "       {\n",
    "        \"afi-safi-name\": \"ipv4-unicast\",\n",
    "        \"state\": {\n",
    "         \"active\": true,\n",
    "         \"prefixes\": {\n",
    "          \"received\": 2,\n",
    "          \"sent\": 0\n",
    "         }\n",
    "        }\n",
    "       }\n",
    "      ]\n",
    "     },\n",
    "     \"graceful-restart\": {\n",
    "      \"state\": {\n",
    "       \"peer-restart-time\": 120\n",
    "      }\n",
    "     }\n",
    "    }\n",
    "   ]\n",
    "  }\n",
    " }\n",
    "}\n",
    "'''"
   ]
  },
  {
   "cell_type": "code",
   "execution_count": 25,
   "metadata": {
    "slideshow": {
     "slide_type": "skip"
    }
   },
   "outputs": [
    {
     "data": {
      "application/vnd.jupyter.widget-view+json": {
       "model_id": "f1a15d089e03478d86a3521454041704",
       "version_major": 2,
       "version_minor": 0
      },
      "text/plain": [
       "HBox(children=(SelectMultiple(layout=Layout(height='282.0px', min_height='282.0px', min_width='300px', width='…"
      ]
     },
     "metadata": {},
     "output_type": "display_data"
    }
   ],
   "source": [
    "json_browser(json.loads(bgp_json))"
   ]
  },
  {
   "cell_type": "markdown",
   "metadata": {
    "slideshow": {
     "slide_type": "slide"
    }
   },
   "source": [
    "# Explorador de tráfico"
   ]
  },
  {
   "cell_type": "code",
   "execution_count": 26,
   "metadata": {
    "slideshow": {
     "slide_type": "subslide"
    }
   },
   "outputs": [
    {
     "data": {
      "application/vnd.jupyter.widget-view+json": {
       "model_id": "db42dccab05b44fba84d0c134fc70140",
       "version_major": 2,
       "version_minor": 0
      },
      "text/plain": [
       "VBox(children=(VBox(children=(HBox(children=(HBox(children=(Checkbox(value=False, description='DST_AS'), Check…"
      ]
     },
     "metadata": {},
     "output_type": "display_data"
    }
   ],
   "source": [
    "import traffic_browser\n",
    "traffic_browser.ts_widget(traffic_matrix, top_flows_to_show=5, align_vertically=False, \n",
    "          time_column=\"TIME\", value_column=\"BW\")"
   ]
  },
  {
   "cell_type": "markdown",
   "metadata": {
    "slideshow": {
     "slide_type": "subslide"
    }
   },
   "source": [
    "Hay muchos más ejemplos en https://voila-gallery.org/\n",
    "\n",
    "(Si hay tiempo y forma miraremos el dashboard de https://github.com/seidlr/voila-interactive-football-pitch)"
   ]
  },
  {
   "cell_type": "markdown",
   "metadata": {
    "slideshow": {
     "slide_type": "slide"
    }
   },
   "source": [
    "# Cómo publicar los dashboards?\n",
    "\n",
    "* [Voilà](https://github.com/voila-dashboards/voila) es la proyecto recomendado para publicar dashboards.\n",
    "* Para proyectos muy pequeños, o personales, se pueden ejecutar directamente el notebook o el jupyterlab.\n"
   ]
  },
  {
   "cell_type": "markdown",
   "metadata": {
    "slideshow": {
     "slide_type": "subslide"
    }
   },
   "source": [
    "# Voilà\n",
    "\n",
    "* Voilà ejecuta el notebook, y representa el **output** de las celdas del notebook. Ignora las que no tienen ningún output.\n",
    "    * Por ahora, Voilà representa las celdas solo en el orden original.\n",
    "    * Hay planes para aumentar la flexibilidad de posición de celdas, pero no esta listo aún. \n",
    "        * Mirar [voila-gridstack](https://github.com/voila-dashboards/voila-gridstack)\n",
    "* Cada usuario obtiene un kernel dedicado."
   ]
  },
  {
   "cell_type": "markdown",
   "metadata": {
    "slideshow": {
     "slide_type": "slide"
    },
    "urth": {
     "dashboard": {
      "layout": {
       "col": 8,
       "height": 4,
       "row": 0,
       "width": 4
      }
     }
    }
   },
   "source": [
    "# Experiencia personal\n",
    "\n",
    "* Muy adecuado para prototipos y proyectos de alcance corto.\n",
    "* Suficientes opciones para mostrar texto, graficos, y tablas\n",
    "* Los he utilizado para:\n",
    "    * Explorar datos jerarquicos\n",
    "    * Crear pequeños prototipos de productos"
   ]
  },
  {
   "cell_type": "markdown",
   "metadata": {
    "slideshow": {
     "slide_type": "skip"
    }
   },
   "source": [
    "# Conclusiones\n",
    "En prototipos, lo perfecto es el enemigo del progreso.\n",
    "\n",
    "Algunos de estas librerias/widgets pueden tener limitantes técnicas.\n",
    "\n",
    "Utilicen suficiente tiempo para expresar ideas, pero no exageren.\n"
   ]
  },
  {
   "cell_type": "markdown",
   "metadata": {
    "collapsed": true,
    "slideshow": {
     "slide_type": "slide"
    }
   },
   "source": [
    "# Preguntas?\n",
    "Código en https://github.com/jccardonar/pycon_colombia2020\n",
    "    \n",
    "Referencias futuras:\n",
    "    * https://twitter.com/SylvainCorlay\n",
    "    * https://gitter.im/QuantStack/Lobby"
   ]
  }
 ],
 "metadata": {
  "celltoolbar": "Slideshow",
  "kernelspec": {
   "display_name": "Python 3",
   "language": "python",
   "name": "python3"
  },
  "language_info": {
   "codemirror_mode": {
    "name": "ipython",
    "version": 3
   },
   "file_extension": ".py",
   "mimetype": "text/x-python",
   "name": "python",
   "nbconvert_exporter": "python",
   "pygments_lexer": "ipython3",
   "version": "3.7.4"
  },
  "urth": {
   "dashboard": {
    "cellMargin": 10,
    "defaultCellHeight": 20,
    "layoutStrategy": "packed",
    "maxColumns": 12
   }
  },
  "widgets": {
   "application/vnd.jupyter.widget-state+json": {
    "state": {
     "0162eae1723449ee9f0fdf69bec7c03d": {
      "model_module": "@jupyter-widgets/base",
      "model_module_version": "1.2.0",
      "model_name": "LayoutModel",
      "state": {}
     },
     "031a5115948549a290ffea662538ae97": {
      "model_module": "@jupyter-widgets/base",
      "model_module_version": "1.2.0",
      "model_name": "LayoutModel",
      "state": {}
     },
     "0356b322d70d49f8af7caf1d94c1c6cd": {
      "model_module": "@jupyter-widgets/base",
      "model_module_version": "1.2.0",
      "model_name": "LayoutModel",
      "state": {}
     },
     "0383e086680948c9b2efcb0ff81952bd": {
      "model_module": "@jupyter-widgets/base",
      "model_module_version": "1.2.0",
      "model_name": "LayoutModel",
      "state": {}
     },
     "03f9293b44c34ad3a271061ddf64fdbf": {
      "model_module": "@jupyter-widgets/base",
      "model_module_version": "1.2.0",
      "model_name": "LayoutModel",
      "state": {
       "width": "400px"
      }
     },
     "04a717b5e1c94f1c81199d026c7a49d5": {
      "model_module": "jupyter-matplotlib",
      "model_module_version": "^0.5.0",
      "model_name": "MPLCanvasModel",
      "state": {
       "layout": "IPY_MODEL_62d004337e964faf9624236545c9e338",
       "toolbar": "IPY_MODEL_db052c5b276a498194a27789d0a465c9",
       "toolbar_position": "left"
      }
     },
     "05129aaa916c47b4a7e43b9140c1e2a1": {
      "model_module": "@jupyter-widgets/controls",
      "model_module_version": "1.5.0",
      "model_name": "DescriptionStyleModel",
      "state": {
       "description_width": ""
      }
     },
     "05ca2ec09675443a9a2113b96ca8dab7": {
      "model_module": "@jupyter-widgets/base",
      "model_module_version": "1.2.0",
      "model_name": "LayoutModel",
      "state": {
       "grid_area": "bottom-left"
      }
     },
     "05f745df30d84d9fa1d32d6af3cd6528": {
      "model_module": "@jupyter-widgets/controls",
      "model_module_version": "1.5.0",
      "model_name": "HTMLModel",
      "state": {
       "layout": "IPY_MODEL_0dc549f44ed24c27852ee7c5ed988499",
       "style": "IPY_MODEL_9094b557021f44fba47a3644afadf312"
      }
     },
     "06dd84f8090a4a41836043705218dbfc": {
      "model_module": "@jupyter-widgets/controls",
      "model_module_version": "1.5.0",
      "model_name": "ButtonStyleModel",
      "state": {}
     },
     "075ed11d027f42c1ab798406eb62ef32": {
      "model_module": "@jupyter-widgets/controls",
      "model_module_version": "1.5.0",
      "model_name": "DescriptionStyleModel",
      "state": {
       "description_width": ""
      }
     },
     "0a26339b3e2244f080e81cea3c077d33": {
      "model_module": "@jupyter-widgets/base",
      "model_module_version": "1.2.0",
      "model_name": "LayoutModel",
      "state": {}
     },
     "0dc549f44ed24c27852ee7c5ed988499": {
      "model_module": "@jupyter-widgets/base",
      "model_module_version": "1.2.0",
      "model_name": "LayoutModel",
      "state": {}
     },
     "0f3c40f9eb1c4dd39250ecc0a8f6611a": {
      "model_module": "@jupyter-widgets/base",
      "model_module_version": "1.2.0",
      "model_name": "LayoutModel",
      "state": {}
     },
     "11be601eaa8245da90e668fdf6f4d466": {
      "model_module": "@jupyter-widgets/base",
      "model_module_version": "1.2.0",
      "model_name": "LayoutModel",
      "state": {}
     },
     "12f573a3939f4002b26a43c14b279a68": {
      "model_module": "@jupyter-widgets/base",
      "model_module_version": "1.2.0",
      "model_name": "LayoutModel",
      "state": {
       "grid_area": "right-sidebar"
      }
     },
     "151780c38ad84ff8a82d83d5b3312bde": {
      "model_module": "@jupyter-widgets/controls",
      "model_module_version": "1.5.0",
      "model_name": "DescriptionStyleModel",
      "state": {
       "description_width": ""
      }
     },
     "1687b0f969af4baa863bb0aa130c741e": {
      "model_module": "@jupyter-widgets/controls",
      "model_module_version": "1.5.0",
      "model_name": "TextModel",
      "state": {
       "layout": "IPY_MODEL_927628fd213b421f80131ebcafe8cf06",
       "style": "IPY_MODEL_d5c82c48cfb94387bb38ea1258dbfd5f",
       "value": "Text box 2"
      }
     },
     "1b4b30cc5f804088b850029a62a63c2f": {
      "model_module": "@jupyter-widgets/controls",
      "model_module_version": "1.5.0",
      "model_name": "DescriptionStyleModel",
      "state": {
       "description_width": ""
      }
     },
     "1d72b73ef1ec4682a35fdf93a895df75": {
      "model_module": "@jupyter-widgets/controls",
      "model_module_version": "1.5.0",
      "model_name": "ButtonStyleModel",
      "state": {}
     },
     "205979ab65ed4824a38c23e0823f5636": {
      "model_module": "@jupyter-widgets/controls",
      "model_module_version": "1.5.0",
      "model_name": "HBoxModel",
      "state": {
       "children": [
        "IPY_MODEL_7d543d7e4eba4c88a947a31f00bc63ff",
        "IPY_MODEL_b9979070bc0f4c8da3fdd4085c0b3aaf"
       ],
       "layout": "IPY_MODEL_735869d331ba4d1aaf1cbc83144cee70"
      }
     },
     "210fb7c895584c21875ce63697938cb7": {
      "model_module": "@jupyter-widgets/controls",
      "model_module_version": "1.5.0",
      "model_name": "SelectMultipleModel",
      "state": {
       "_options_labels": [
        "None",
        "Nivel1"
       ],
       "index": [],
       "layout": "IPY_MODEL_a2b7426cd39d4a8fa884425b33ff60dc",
       "rows": 10,
       "style": "IPY_MODEL_bb2bb80eab344b61a33eb3ff897b3e58"
      }
     },
     "228d56f5919a468d82da044894b07c78": {
      "model_module": "@jupyter-widgets/base",
      "model_module_version": "1.2.0",
      "model_name": "LayoutModel",
      "state": {
       "grid_area": "header"
      }
     },
     "248616776a644c958a80b40a73443ae8": {
      "model_module": "@jupyter-widgets/base",
      "model_module_version": "1.2.0",
      "model_name": "LayoutModel",
      "state": {}
     },
     "2708a4782ff64df498e23dbc4139ad23": {
      "model_module": "jupyter-matplotlib",
      "model_module_version": "^0.5.0",
      "model_name": "MPLCanvasModel",
      "state": {
       "layout": "IPY_MODEL_efbb07128344440fa47108e82452061b",
       "toolbar": "IPY_MODEL_b2b873abbbb748caaa3c61e61fa62014",
       "toolbar_position": "left"
      }
     },
     "2776558394b14084ae7fb1eeef4461c0": {
      "model_module": "@jupyter-widgets/base",
      "model_module_version": "1.2.0",
      "model_name": "LayoutModel",
      "state": {}
     },
     "28c51f2cbbc8481faac33fa89d23ddd6": {
      "model_module": "@jupyter-widgets/controls",
      "model_module_version": "1.5.0",
      "model_name": "HTMLModel",
      "state": {
       "layout": "IPY_MODEL_0356b322d70d49f8af7caf1d94c1c6cd",
       "style": "IPY_MODEL_79e1a857e1e845179532701799ab4253",
       "value": "<style  type=\"text/css\" >\n    #T_8077d14a_49d4_11ea_8ae5_3af9d378ec91 tr:hover {\n          background-color: #F0F0F0;\n    }</style><table id=\"T_8077d14a_49d4_11ea_8ae5_3af9d378ec91\" class=\"table\"><thead>    <tr>        <th class=\"blank level0\" ></th>        <th class=\"col_heading level0 col0\" >DST_NET</th>        <th class=\"col_heading level0 col1\" >SRC_NET</th>        <th class=\"col_heading level0 col2\" >TIME</th>        <th class=\"col_heading level0 col3\" >SRC_ROUTER</th>        <th class=\"col_heading level0 col4\" >DST_ROUTER</th>        <th class=\"col_heading level0 col5\" >SRC_AS</th>        <th class=\"col_heading level0 col6\" >DST_AS</th>        <th class=\"col_heading level0 col7\" >EGRESS_LINK</th>        <th class=\"col_heading level0 col8\" >INGRESS_LINK</th>        <th class=\"col_heading level0 col9\" >BW</th>    </tr></thead><tbody>\n                <tr>\n                        <th id=\"T_8077d14a_49d4_11ea_8ae5_3af9d378ec91level0_row0\" class=\"row_heading level0 row0\" >10</th>\n                        <td id=\"T_8077d14a_49d4_11ea_8ae5_3af9d378ec91row0_col0\" class=\"data row0 col0\" >2001:db8:0110::0/48</td>\n                        <td id=\"T_8077d14a_49d4_11ea_8ae5_3af9d378ec91row0_col1\" class=\"data row0 col1\" >2001:db8:0210::0/48</td>\n                        <td id=\"T_8077d14a_49d4_11ea_8ae5_3af9d378ec91row0_col2\" class=\"data row0 col2\" >2012-04-28 01:30:00</td>\n                        <td id=\"T_8077d14a_49d4_11ea_8ae5_3af9d378ec91row0_col3\" class=\"data row0 col3\" >Frankfurt</td>\n                        <td id=\"T_8077d14a_49d4_11ea_8ae5_3af9d378ec91row0_col4\" class=\"data row0 col4\" >Frankfurt</td>\n                        <td id=\"T_8077d14a_49d4_11ea_8ae5_3af9d378ec91row0_col5\" class=\"data row0 col5\" >6501</td>\n                        <td id=\"T_8077d14a_49d4_11ea_8ae5_3af9d378ec91row0_col6\" class=\"data row0 col6\" >6500</td>\n                        <td id=\"T_8077d14a_49d4_11ea_8ae5_3af9d378ec91row0_col7\" class=\"data row0 col7\" >Frankfurt_0</td>\n                        <td id=\"T_8077d14a_49d4_11ea_8ae5_3af9d378ec91row0_col8\" class=\"data row0 col8\" >Frankfurt_1</td>\n                        <td id=\"T_8077d14a_49d4_11ea_8ae5_3af9d378ec91row0_col9\" class=\"data row0 col9\" >1.29667e+06</td>\n            </tr>\n            <tr>\n                        <th id=\"T_8077d14a_49d4_11ea_8ae5_3af9d378ec91level0_row1\" class=\"row_heading level0 row1\" >11</th>\n                        <td id=\"T_8077d14a_49d4_11ea_8ae5_3af9d378ec91row1_col0\" class=\"data row1 col0\" >2001:db8:0110::0/48</td>\n                        <td id=\"T_8077d14a_49d4_11ea_8ae5_3af9d378ec91row1_col1\" class=\"data row1 col1\" >2001:db8:0210::0/48</td>\n                        <td id=\"T_8077d14a_49d4_11ea_8ae5_3af9d378ec91row1_col2\" class=\"data row1 col2\" >2012-04-28 02:00:00.000003</td>\n                        <td id=\"T_8077d14a_49d4_11ea_8ae5_3af9d378ec91row1_col3\" class=\"data row1 col3\" >Frankfurt</td>\n                        <td id=\"T_8077d14a_49d4_11ea_8ae5_3af9d378ec91row1_col4\" class=\"data row1 col4\" >Frankfurt</td>\n                        <td id=\"T_8077d14a_49d4_11ea_8ae5_3af9d378ec91row1_col5\" class=\"data row1 col5\" >6501</td>\n                        <td id=\"T_8077d14a_49d4_11ea_8ae5_3af9d378ec91row1_col6\" class=\"data row1 col6\" >6500</td>\n                        <td id=\"T_8077d14a_49d4_11ea_8ae5_3af9d378ec91row1_col7\" class=\"data row1 col7\" >Frankfurt_0</td>\n                        <td id=\"T_8077d14a_49d4_11ea_8ae5_3af9d378ec91row1_col8\" class=\"data row1 col8\" >Frankfurt_1</td>\n                        <td id=\"T_8077d14a_49d4_11ea_8ae5_3af9d378ec91row1_col9\" class=\"data row1 col9\" >856561</td>\n            </tr>\n            <tr>\n                        <th id=\"T_8077d14a_49d4_11ea_8ae5_3af9d378ec91level0_row2\" class=\"row_heading level0 row2\" >12</th>\n                        <td id=\"T_8077d14a_49d4_11ea_8ae5_3af9d378ec91row2_col0\" class=\"data row2 col0\" >2001:db8:0110::0/48</td>\n                        <td id=\"T_8077d14a_49d4_11ea_8ae5_3af9d378ec91row2_col1\" class=\"data row2 col1\" >2001:db8:0210::0/48</td>\n                        <td id=\"T_8077d14a_49d4_11ea_8ae5_3af9d378ec91row2_col2\" class=\"data row2 col2\" >2012-04-28 02:29:59.999997</td>\n                        <td id=\"T_8077d14a_49d4_11ea_8ae5_3af9d378ec91row2_col3\" class=\"data row2 col3\" >Frankfurt</td>\n                        <td id=\"T_8077d14a_49d4_11ea_8ae5_3af9d378ec91row2_col4\" class=\"data row2 col4\" >Frankfurt</td>\n                        <td id=\"T_8077d14a_49d4_11ea_8ae5_3af9d378ec91row2_col5\" class=\"data row2 col5\" >6501</td>\n                        <td id=\"T_8077d14a_49d4_11ea_8ae5_3af9d378ec91row2_col6\" class=\"data row2 col6\" >6500</td>\n                        <td id=\"T_8077d14a_49d4_11ea_8ae5_3af9d378ec91row2_col7\" class=\"data row2 col7\" >Frankfurt_0</td>\n                        <td id=\"T_8077d14a_49d4_11ea_8ae5_3af9d378ec91row2_col8\" class=\"data row2 col8\" >Frankfurt_1</td>\n                        <td id=\"T_8077d14a_49d4_11ea_8ae5_3af9d378ec91row2_col9\" class=\"data row2 col9\" >730766</td>\n            </tr>\n            <tr>\n                        <th id=\"T_8077d14a_49d4_11ea_8ae5_3af9d378ec91level0_row3\" class=\"row_heading level0 row3\" >13</th>\n                        <td id=\"T_8077d14a_49d4_11ea_8ae5_3af9d378ec91row3_col0\" class=\"data row3 col0\" >2001:db8:0110::0/48</td>\n                        <td id=\"T_8077d14a_49d4_11ea_8ae5_3af9d378ec91row3_col1\" class=\"data row3 col1\" >2001:db8:0210::0/48</td>\n                        <td id=\"T_8077d14a_49d4_11ea_8ae5_3af9d378ec91row3_col2\" class=\"data row3 col2\" >2012-04-28 03:00:00</td>\n                        <td id=\"T_8077d14a_49d4_11ea_8ae5_3af9d378ec91row3_col3\" class=\"data row3 col3\" >Frankfurt</td>\n                        <td id=\"T_8077d14a_49d4_11ea_8ae5_3af9d378ec91row3_col4\" class=\"data row3 col4\" >Frankfurt</td>\n                        <td id=\"T_8077d14a_49d4_11ea_8ae5_3af9d378ec91row3_col5\" class=\"data row3 col5\" >6501</td>\n                        <td id=\"T_8077d14a_49d4_11ea_8ae5_3af9d378ec91row3_col6\" class=\"data row3 col6\" >6500</td>\n                        <td id=\"T_8077d14a_49d4_11ea_8ae5_3af9d378ec91row3_col7\" class=\"data row3 col7\" >Frankfurt_0</td>\n                        <td id=\"T_8077d14a_49d4_11ea_8ae5_3af9d378ec91row3_col8\" class=\"data row3 col8\" >Frankfurt_1</td>\n                        <td id=\"T_8077d14a_49d4_11ea_8ae5_3af9d378ec91row3_col9\" class=\"data row3 col9\" >560515</td>\n            </tr>\n            <tr>\n                        <th id=\"T_8077d14a_49d4_11ea_8ae5_3af9d378ec91level0_row4\" class=\"row_heading level0 row4\" >14</th>\n                        <td id=\"T_8077d14a_49d4_11ea_8ae5_3af9d378ec91row4_col0\" class=\"data row4 col0\" >2001:db8:0110::0/48</td>\n                        <td id=\"T_8077d14a_49d4_11ea_8ae5_3af9d378ec91row4_col1\" class=\"data row4 col1\" >2001:db8:0210::0/48</td>\n                        <td id=\"T_8077d14a_49d4_11ea_8ae5_3af9d378ec91row4_col2\" class=\"data row4 col2\" >2012-04-28 03:30:00.000003</td>\n                        <td id=\"T_8077d14a_49d4_11ea_8ae5_3af9d378ec91row4_col3\" class=\"data row4 col3\" >Frankfurt</td>\n                        <td id=\"T_8077d14a_49d4_11ea_8ae5_3af9d378ec91row4_col4\" class=\"data row4 col4\" >Frankfurt</td>\n                        <td id=\"T_8077d14a_49d4_11ea_8ae5_3af9d378ec91row4_col5\" class=\"data row4 col5\" >6501</td>\n                        <td id=\"T_8077d14a_49d4_11ea_8ae5_3af9d378ec91row4_col6\" class=\"data row4 col6\" >6500</td>\n                        <td id=\"T_8077d14a_49d4_11ea_8ae5_3af9d378ec91row4_col7\" class=\"data row4 col7\" >Frankfurt_0</td>\n                        <td id=\"T_8077d14a_49d4_11ea_8ae5_3af9d378ec91row4_col8\" class=\"data row4 col8\" >Frankfurt_1</td>\n                        <td id=\"T_8077d14a_49d4_11ea_8ae5_3af9d378ec91row4_col9\" class=\"data row4 col9\" >554759</td>\n            </tr>\n            <tr>\n                        <th id=\"T_8077d14a_49d4_11ea_8ae5_3af9d378ec91level0_row5\" class=\"row_heading level0 row5\" >15</th>\n                        <td id=\"T_8077d14a_49d4_11ea_8ae5_3af9d378ec91row5_col0\" class=\"data row5 col0\" >2001:db8:0110::0/48</td>\n                        <td id=\"T_8077d14a_49d4_11ea_8ae5_3af9d378ec91row5_col1\" class=\"data row5 col1\" >2001:db8:0210::0/48</td>\n                        <td id=\"T_8077d14a_49d4_11ea_8ae5_3af9d378ec91row5_col2\" class=\"data row5 col2\" >2012-04-28 03:59:59.999997</td>\n                        <td id=\"T_8077d14a_49d4_11ea_8ae5_3af9d378ec91row5_col3\" class=\"data row5 col3\" >Frankfurt</td>\n                        <td id=\"T_8077d14a_49d4_11ea_8ae5_3af9d378ec91row5_col4\" class=\"data row5 col4\" >Frankfurt</td>\n                        <td id=\"T_8077d14a_49d4_11ea_8ae5_3af9d378ec91row5_col5\" class=\"data row5 col5\" >6501</td>\n                        <td id=\"T_8077d14a_49d4_11ea_8ae5_3af9d378ec91row5_col6\" class=\"data row5 col6\" >6500</td>\n                        <td id=\"T_8077d14a_49d4_11ea_8ae5_3af9d378ec91row5_col7\" class=\"data row5 col7\" >Frankfurt_0</td>\n                        <td id=\"T_8077d14a_49d4_11ea_8ae5_3af9d378ec91row5_col8\" class=\"data row5 col8\" >Frankfurt_1</td>\n                        <td id=\"T_8077d14a_49d4_11ea_8ae5_3af9d378ec91row5_col9\" class=\"data row5 col9\" >427509</td>\n            </tr>\n            <tr>\n                        <th id=\"T_8077d14a_49d4_11ea_8ae5_3af9d378ec91level0_row6\" class=\"row_heading level0 row6\" >16</th>\n                        <td id=\"T_8077d14a_49d4_11ea_8ae5_3af9d378ec91row6_col0\" class=\"data row6 col0\" >2001:db8:0110::0/48</td>\n                        <td id=\"T_8077d14a_49d4_11ea_8ae5_3af9d378ec91row6_col1\" class=\"data row6 col1\" >2001:db8:0210::0/48</td>\n                        <td id=\"T_8077d14a_49d4_11ea_8ae5_3af9d378ec91row6_col2\" class=\"data row6 col2\" >2012-04-28 04:30:00</td>\n                        <td id=\"T_8077d14a_49d4_11ea_8ae5_3af9d378ec91row6_col3\" class=\"data row6 col3\" >Frankfurt</td>\n                        <td id=\"T_8077d14a_49d4_11ea_8ae5_3af9d378ec91row6_col4\" class=\"data row6 col4\" >Frankfurt</td>\n                        <td id=\"T_8077d14a_49d4_11ea_8ae5_3af9d378ec91row6_col5\" class=\"data row6 col5\" >6501</td>\n                        <td id=\"T_8077d14a_49d4_11ea_8ae5_3af9d378ec91row6_col6\" class=\"data row6 col6\" >6500</td>\n                        <td id=\"T_8077d14a_49d4_11ea_8ae5_3af9d378ec91row6_col7\" class=\"data row6 col7\" >Frankfurt_0</td>\n                        <td id=\"T_8077d14a_49d4_11ea_8ae5_3af9d378ec91row6_col8\" class=\"data row6 col8\" >Frankfurt_1</td>\n                        <td id=\"T_8077d14a_49d4_11ea_8ae5_3af9d378ec91row6_col9\" class=\"data row6 col9\" >431032</td>\n            </tr>\n            <tr>\n                        <th id=\"T_8077d14a_49d4_11ea_8ae5_3af9d378ec91level0_row7\" class=\"row_heading level0 row7\" >17</th>\n                        <td id=\"T_8077d14a_49d4_11ea_8ae5_3af9d378ec91row7_col0\" class=\"data row7 col0\" >2001:db8:0110::0/48</td>\n                        <td id=\"T_8077d14a_49d4_11ea_8ae5_3af9d378ec91row7_col1\" class=\"data row7 col1\" >2001:db8:0210::0/48</td>\n                        <td id=\"T_8077d14a_49d4_11ea_8ae5_3af9d378ec91row7_col2\" class=\"data row7 col2\" >2012-04-28 05:00:00.000003</td>\n                        <td id=\"T_8077d14a_49d4_11ea_8ae5_3af9d378ec91row7_col3\" class=\"data row7 col3\" >Frankfurt</td>\n                        <td id=\"T_8077d14a_49d4_11ea_8ae5_3af9d378ec91row7_col4\" class=\"data row7 col4\" >Frankfurt</td>\n                        <td id=\"T_8077d14a_49d4_11ea_8ae5_3af9d378ec91row7_col5\" class=\"data row7 col5\" >6501</td>\n                        <td id=\"T_8077d14a_49d4_11ea_8ae5_3af9d378ec91row7_col6\" class=\"data row7 col6\" >6500</td>\n                        <td id=\"T_8077d14a_49d4_11ea_8ae5_3af9d378ec91row7_col7\" class=\"data row7 col7\" >Frankfurt_0</td>\n                        <td id=\"T_8077d14a_49d4_11ea_8ae5_3af9d378ec91row7_col8\" class=\"data row7 col8\" >Frankfurt_1</td>\n                        <td id=\"T_8077d14a_49d4_11ea_8ae5_3af9d378ec91row7_col9\" class=\"data row7 col9\" >494391</td>\n            </tr>\n            <tr>\n                        <th id=\"T_8077d14a_49d4_11ea_8ae5_3af9d378ec91level0_row8\" class=\"row_heading level0 row8\" >18</th>\n                        <td id=\"T_8077d14a_49d4_11ea_8ae5_3af9d378ec91row8_col0\" class=\"data row8 col0\" >2001:db8:0110::0/48</td>\n                        <td id=\"T_8077d14a_49d4_11ea_8ae5_3af9d378ec91row8_col1\" class=\"data row8 col1\" >2001:db8:0210::0/48</td>\n                        <td id=\"T_8077d14a_49d4_11ea_8ae5_3af9d378ec91row8_col2\" class=\"data row8 col2\" >2012-04-28 05:29:59.999997</td>\n                        <td id=\"T_8077d14a_49d4_11ea_8ae5_3af9d378ec91row8_col3\" class=\"data row8 col3\" >Frankfurt</td>\n                        <td id=\"T_8077d14a_49d4_11ea_8ae5_3af9d378ec91row8_col4\" class=\"data row8 col4\" >Frankfurt</td>\n                        <td id=\"T_8077d14a_49d4_11ea_8ae5_3af9d378ec91row8_col5\" class=\"data row8 col5\" >6501</td>\n                        <td id=\"T_8077d14a_49d4_11ea_8ae5_3af9d378ec91row8_col6\" class=\"data row8 col6\" >6500</td>\n                        <td id=\"T_8077d14a_49d4_11ea_8ae5_3af9d378ec91row8_col7\" class=\"data row8 col7\" >Frankfurt_0</td>\n                        <td id=\"T_8077d14a_49d4_11ea_8ae5_3af9d378ec91row8_col8\" class=\"data row8 col8\" >Frankfurt_1</td>\n                        <td id=\"T_8077d14a_49d4_11ea_8ae5_3af9d378ec91row8_col9\" class=\"data row8 col9\" >487377</td>\n            </tr>\n            <tr>\n                        <th id=\"T_8077d14a_49d4_11ea_8ae5_3af9d378ec91level0_row9\" class=\"row_heading level0 row9\" >19</th>\n                        <td id=\"T_8077d14a_49d4_11ea_8ae5_3af9d378ec91row9_col0\" class=\"data row9 col0\" >2001:db8:0110::0/48</td>\n                        <td id=\"T_8077d14a_49d4_11ea_8ae5_3af9d378ec91row9_col1\" class=\"data row9 col1\" >2001:db8:0210::0/48</td>\n                        <td id=\"T_8077d14a_49d4_11ea_8ae5_3af9d378ec91row9_col2\" class=\"data row9 col2\" >2012-04-28 06:00:00</td>\n                        <td id=\"T_8077d14a_49d4_11ea_8ae5_3af9d378ec91row9_col3\" class=\"data row9 col3\" >Frankfurt</td>\n                        <td id=\"T_8077d14a_49d4_11ea_8ae5_3af9d378ec91row9_col4\" class=\"data row9 col4\" >Frankfurt</td>\n                        <td id=\"T_8077d14a_49d4_11ea_8ae5_3af9d378ec91row9_col5\" class=\"data row9 col5\" >6501</td>\n                        <td id=\"T_8077d14a_49d4_11ea_8ae5_3af9d378ec91row9_col6\" class=\"data row9 col6\" >6500</td>\n                        <td id=\"T_8077d14a_49d4_11ea_8ae5_3af9d378ec91row9_col7\" class=\"data row9 col7\" >Frankfurt_0</td>\n                        <td id=\"T_8077d14a_49d4_11ea_8ae5_3af9d378ec91row9_col8\" class=\"data row9 col8\" >Frankfurt_1</td>\n                        <td id=\"T_8077d14a_49d4_11ea_8ae5_3af9d378ec91row9_col9\" class=\"data row9 col9\" >598437</td>\n            </tr>\n    </tbody></table>"
      }
     },
     "2921e3dc16784e2983ddfecec197d187": {
      "model_module": "@jupyter-widgets/controls",
      "model_module_version": "1.5.0",
      "model_name": "VBoxModel",
      "state": {
       "children": [
        "IPY_MODEL_05f745df30d84d9fa1d32d6af3cd6528"
       ],
       "layout": "IPY_MODEL_6de5724ce348458391aa2db6c8534b9e"
      }
     },
     "2a7cc0e85a7849c1a589372dcae4f33d": {
      "model_module": "@jupyter-widgets/controls",
      "model_module_version": "1.5.0",
      "model_name": "DescriptionStyleModel",
      "state": {
       "description_width": ""
      }
     },
     "301f04a4fa65414ba473129f3adc3cf6": {
      "model_module": "@jupyter-widgets/controls",
      "model_module_version": "1.5.0",
      "model_name": "CheckboxModel",
      "state": {
       "description": "DST_AS",
       "disabled": false,
       "layout": "IPY_MODEL_0162eae1723449ee9f0fdf69bec7c03d",
       "style": "IPY_MODEL_e4387665141347b5a31544ec187d54ca",
       "value": false
      }
     },
     "33172428aaf84a719e750ea8e8add3f3": {
      "model_module": "@jupyter-widgets/base",
      "model_module_version": "1.2.0",
      "model_name": "LayoutModel",
      "state": {}
     },
     "333a828aec6343c0b33fb6c4ed775650": {
      "model_module": "@jupyter-widgets/controls",
      "model_module_version": "1.5.0",
      "model_name": "ButtonModel",
      "state": {
       "description": "footer",
       "layout": "IPY_MODEL_7c59a14ae29241b0be825cf020fb0efd",
       "style": "IPY_MODEL_bf42278f02e34a4a9f88d93b73e01028"
      }
     },
     "34831a9438f146d4a5308ef12e73d355": {
      "model_module": "@jupyter-widgets/controls",
      "model_module_version": "1.5.0",
      "model_name": "ButtonModel",
      "state": {
       "description": "Habilitar texto",
       "layout": "IPY_MODEL_fbd12170201f43e0b2406542e9b0ddc7",
       "style": "IPY_MODEL_a0c7f4ae45c84b7b86fd955a1cc59cd2"
      }
     },
     "34d8ef40da2b4f91b58fa42970ef8ff9": {
      "model_module": "@jupyter-widgets/controls",
      "model_module_version": "1.5.0",
      "model_name": "HBoxModel",
      "state": {
       "children": [
        "IPY_MODEL_e966b9309595450aa9a2b69de8739932",
        "IPY_MODEL_6ad9da5e093644319c50ce588a7d7701"
       ],
       "layout": "IPY_MODEL_b9d09fea7d844ecbbc1560c228c06a48"
      }
     },
     "3529374ed13c40059fca1be59713fb7e": {
      "model_module": "@jupyter-widgets/base",
      "model_module_version": "1.2.0",
      "model_name": "LayoutModel",
      "state": {}
     },
     "358727fd417d4c01ace3bdaf5867d776": {
      "model_module": "@jupyter-widgets/controls",
      "model_module_version": "1.5.0",
      "model_name": "HBoxModel",
      "state": {
       "children": [
        "IPY_MODEL_2708a4782ff64df498e23dbc4139ad23",
        "IPY_MODEL_2921e3dc16784e2983ddfecec197d187"
       ],
       "layout": "IPY_MODEL_9fad8ea74d1e40c8989ce41fd58124ab"
      }
     },
     "39759f1555154baf9ac7a70eb890d82e": {
      "model_module": "@jupyter-widgets/controls",
      "model_module_version": "1.5.0",
      "model_name": "HBoxModel",
      "state": {
       "children": [
        "IPY_MODEL_34831a9438f146d4a5308ef12e73d355",
        "IPY_MODEL_f8e6f766109649baa4bc50c14937e0b5"
       ],
       "layout": "IPY_MODEL_f8c7a6acf6cc4e07b41f593b8dd337c6"
      }
     },
     "3cf6aeae4ba94cd79b972fb58d8ec0d3": {
      "model_module": "@jupyter-widgets/controls",
      "model_module_version": "1.5.0",
      "model_name": "ButtonStyleModel",
      "state": {}
     },
     "411eae995d814e6f943f0bd6c5b0642b": {
      "model_module": "@jupyter-widgets/base",
      "model_module_version": "1.2.0",
      "model_name": "LayoutModel",
      "state": {
       "grid_area": "bottom-right"
      }
     },
     "454f12a0036a4bcfabb001a3bca0d9db": {
      "model_module": "@jupyter-widgets/base",
      "model_module_version": "1.2.0",
      "model_name": "LayoutModel",
      "state": {}
     },
     "463cfa5aee524d3c967aa94129b39ebb": {
      "model_module": "@jupyter-widgets/controls",
      "model_module_version": "1.5.0",
      "model_name": "ButtonModel",
      "state": {
       "description": "Long button",
       "layout": "IPY_MODEL_03f9293b44c34ad3a271061ddf64fdbf",
       "style": "IPY_MODEL_d211123fdc484e8183a4b170ff0d1e45"
      }
     },
     "482a99e3a0134d3d805b4724459bd927": {
      "model_module": "@jupyter-widgets/controls",
      "model_module_version": "1.5.0",
      "model_name": "GridBoxModel",
      "state": {
       "children": [
        "IPY_MODEL_591a7ca057a44ecbb7de51c38fb54605",
        "IPY_MODEL_7a66448060364609ba6abf7f5a6293c6",
        "IPY_MODEL_839404d4b3734ee3a8d57f8cadb8011f"
       ],
       "layout": "IPY_MODEL_ef6246cabaab423cb2e538b7ebb18e58"
      }
     },
     "486e6c7f0bcc4e538a3fd1c47a325b00": {
      "model_module": "@jupyter-widgets/base",
      "model_module_version": "1.2.0",
      "model_name": "LayoutModel",
      "state": {
       "grid_area": "left-sidebar"
      }
     },
     "4df9b865b2344700af2c71b26632661a": {
      "model_module": "@jupyter-widgets/base",
      "model_module_version": "1.2.0",
      "model_name": "LayoutModel",
      "state": {}
     },
     "4e085525ea6e41af8d56c3ddf2de05dd": {
      "model_module": "@jupyter-widgets/output",
      "model_module_version": "1.0.0",
      "model_name": "OutputModel",
      "state": {
       "layout": "IPY_MODEL_4df9b865b2344700af2c71b26632661a",
       "outputs": [
        {
         "data": {
          "text/html": "<div>\n<style scoped>\n    .dataframe tbody tr th:only-of-type {\n        vertical-align: middle;\n    }\n\n    .dataframe tbody tr th {\n        vertical-align: top;\n    }\n\n    .dataframe thead th {\n        text-align: right;\n    }\n</style>\n<table border=\"1\" class=\"dataframe\">\n  <thead>\n    <tr style=\"text-align: right;\">\n      <th></th>\n      <th>DST_NET</th>\n      <th>SRC_NET</th>\n      <th>TIME</th>\n      <th>SRC_ROUTER</th>\n      <th>DST_ROUTER</th>\n      <th>SRC_AS</th>\n      <th>DST_AS</th>\n      <th>EGRESS_LINK</th>\n      <th>INGRESS_LINK</th>\n      <th>BW</th>\n    </tr>\n  </thead>\n  <tbody>\n    <tr>\n      <th>0</th>\n      <td>2001:db8:0110::0/48</td>\n      <td>2001:db8:0210::0/48</td>\n      <td>2012-04-27 20:29:59.999997</td>\n      <td>Frankfurt</td>\n      <td>Frankfurt</td>\n      <td>6501</td>\n      <td>6500</td>\n      <td>Frankfurt_0</td>\n      <td>Frankfurt_1</td>\n      <td>3.217862e+06</td>\n    </tr>\n    <tr>\n      <th>1</th>\n      <td>2001:db8:0110::0/48</td>\n      <td>2001:db8:0210::0/48</td>\n      <td>2012-04-27 21:00:00.000000</td>\n      <td>Frankfurt</td>\n      <td>Frankfurt</td>\n      <td>6501</td>\n      <td>6500</td>\n      <td>Frankfurt_0</td>\n      <td>Frankfurt_1</td>\n      <td>3.496796e+06</td>\n    </tr>\n    <tr>\n      <th>2</th>\n      <td>2001:db8:0110::0/48</td>\n      <td>2001:db8:0210::0/48</td>\n      <td>2012-04-27 21:30:00.000003</td>\n      <td>Frankfurt</td>\n      <td>Frankfurt</td>\n      <td>6501</td>\n      <td>6500</td>\n      <td>Frankfurt_0</td>\n      <td>Frankfurt_1</td>\n      <td>3.359184e+06</td>\n    </tr>\n    <tr>\n      <th>3</th>\n      <td>2001:db8:0110::0/48</td>\n      <td>2001:db8:0210::0/48</td>\n      <td>2012-04-27 21:59:59.999997</td>\n      <td>Frankfurt</td>\n      <td>Frankfurt</td>\n      <td>6501</td>\n      <td>6500</td>\n      <td>Frankfurt_0</td>\n      <td>Frankfurt_1</td>\n      <td>3.760496e+06</td>\n    </tr>\n    <tr>\n      <th>4</th>\n      <td>2001:db8:0110::0/48</td>\n      <td>2001:db8:0210::0/48</td>\n      <td>2012-04-27 22:30:00.000000</td>\n      <td>Frankfurt</td>\n      <td>Frankfurt</td>\n      <td>6501</td>\n      <td>6500</td>\n      <td>Frankfurt_0</td>\n      <td>Frankfurt_1</td>\n      <td>3.194238e+06</td>\n    </tr>\n    <tr>\n      <th>5</th>\n      <td>2001:db8:0110::0/48</td>\n      <td>2001:db8:0210::0/48</td>\n      <td>2012-04-27 23:00:00.000003</td>\n      <td>Frankfurt</td>\n      <td>Frankfurt</td>\n      <td>6501</td>\n      <td>6500</td>\n      <td>Frankfurt_0</td>\n      <td>Frankfurt_1</td>\n      <td>3.640460e+06</td>\n    </tr>\n    <tr>\n      <th>6</th>\n      <td>2001:db8:0110::0/48</td>\n      <td>2001:db8:0210::0/48</td>\n      <td>2012-04-27 23:29:59.999997</td>\n      <td>Frankfurt</td>\n      <td>Frankfurt</td>\n      <td>6501</td>\n      <td>6500</td>\n      <td>Frankfurt_0</td>\n      <td>Frankfurt_1</td>\n      <td>3.577042e+06</td>\n    </tr>\n    <tr>\n      <th>7</th>\n      <td>2001:db8:0110::0/48</td>\n      <td>2001:db8:0210::0/48</td>\n      <td>2012-04-28 00:00:00.000000</td>\n      <td>Frankfurt</td>\n      <td>Frankfurt</td>\n      <td>6501</td>\n      <td>6500</td>\n      <td>Frankfurt_0</td>\n      <td>Frankfurt_1</td>\n      <td>2.799355e+06</td>\n    </tr>\n    <tr>\n      <th>8</th>\n      <td>2001:db8:0110::0/48</td>\n      <td>2001:db8:0210::0/48</td>\n      <td>2012-04-28 00:30:00.000003</td>\n      <td>Frankfurt</td>\n      <td>Frankfurt</td>\n      <td>6501</td>\n      <td>6500</td>\n      <td>Frankfurt_0</td>\n      <td>Frankfurt_1</td>\n      <td>2.288460e+06</td>\n    </tr>\n    <tr>\n      <th>9</th>\n      <td>2001:db8:0110::0/48</td>\n      <td>2001:db8:0210::0/48</td>\n      <td>2012-04-28 00:59:59.999997</td>\n      <td>Frankfurt</td>\n      <td>Frankfurt</td>\n      <td>6501</td>\n      <td>6500</td>\n      <td>Frankfurt_0</td>\n      <td>Frankfurt_1</td>\n      <td>1.607547e+06</td>\n    </tr>\n  </tbody>\n</table>\n</div>",
          "text/plain": "               DST_NET              SRC_NET                       TIME  \\\n0  2001:db8:0110::0/48  2001:db8:0210::0/48 2012-04-27 20:29:59.999997   \n1  2001:db8:0110::0/48  2001:db8:0210::0/48 2012-04-27 21:00:00.000000   \n2  2001:db8:0110::0/48  2001:db8:0210::0/48 2012-04-27 21:30:00.000003   \n3  2001:db8:0110::0/48  2001:db8:0210::0/48 2012-04-27 21:59:59.999997   \n4  2001:db8:0110::0/48  2001:db8:0210::0/48 2012-04-27 22:30:00.000000   \n5  2001:db8:0110::0/48  2001:db8:0210::0/48 2012-04-27 23:00:00.000003   \n6  2001:db8:0110::0/48  2001:db8:0210::0/48 2012-04-27 23:29:59.999997   \n7  2001:db8:0110::0/48  2001:db8:0210::0/48 2012-04-28 00:00:00.000000   \n8  2001:db8:0110::0/48  2001:db8:0210::0/48 2012-04-28 00:30:00.000003   \n9  2001:db8:0110::0/48  2001:db8:0210::0/48 2012-04-28 00:59:59.999997   \n\n  SRC_ROUTER DST_ROUTER  SRC_AS  DST_AS  EGRESS_LINK INGRESS_LINK  \\\n0  Frankfurt  Frankfurt    6501    6500  Frankfurt_0  Frankfurt_1   \n1  Frankfurt  Frankfurt    6501    6500  Frankfurt_0  Frankfurt_1   \n2  Frankfurt  Frankfurt    6501    6500  Frankfurt_0  Frankfurt_1   \n3  Frankfurt  Frankfurt    6501    6500  Frankfurt_0  Frankfurt_1   \n4  Frankfurt  Frankfurt    6501    6500  Frankfurt_0  Frankfurt_1   \n5  Frankfurt  Frankfurt    6501    6500  Frankfurt_0  Frankfurt_1   \n6  Frankfurt  Frankfurt    6501    6500  Frankfurt_0  Frankfurt_1   \n7  Frankfurt  Frankfurt    6501    6500  Frankfurt_0  Frankfurt_1   \n8  Frankfurt  Frankfurt    6501    6500  Frankfurt_0  Frankfurt_1   \n9  Frankfurt  Frankfurt    6501    6500  Frankfurt_0  Frankfurt_1   \n\n             BW  \n0  3.217862e+06  \n1  3.496796e+06  \n2  3.359184e+06  \n3  3.760496e+06  \n4  3.194238e+06  \n5  3.640460e+06  \n6  3.577042e+06  \n7  2.799355e+06  \n8  2.288460e+06  \n9  1.607547e+06  "
         },
         "metadata": {},
         "output_type": "display_data"
        }
       ]
      }
     },
     "50592cf8abe5452c84fc80b6d3adce5c": {
      "model_module": "@jupyter-widgets/controls",
      "model_module_version": "1.5.0",
      "model_name": "HBoxModel",
      "state": {
       "children": [
        "IPY_MODEL_839404d4b3734ee3a8d57f8cadb8011f"
       ],
       "layout": "IPY_MODEL_0a26339b3e2244f080e81cea3c077d33"
      }
     },
     "5072e2cea5fd4125b34226ed539928c3": {
      "model_module": "@jupyter-widgets/controls",
      "model_module_version": "1.5.0",
      "model_name": "DescriptionStyleModel",
      "state": {
       "description_width": ""
      }
     },
     "5091ff512ea941b0a655502e8423c549": {
      "model_module": "@jupyter-widgets/base",
      "model_module_version": "1.2.0",
      "model_name": "LayoutModel",
      "state": {}
     },
     "50e09a7ba9ff43fb97f3d6d373e2b6b5": {
      "model_module": "@jupyter-widgets/base",
      "model_module_version": "1.2.0",
      "model_name": "LayoutModel",
      "state": {
       "align_items": "center",
       "grid_template_areas": "\"header header header\"\n\"left-sidebar center right-sidebar\"\n\"footer footer footer\"",
       "grid_template_columns": "1fr 2fr 1fr",
       "grid_template_rows": "1fr 3fr 1fr"
      }
     },
     "50e0bb6b8b2945e8b35aea5c652228f5": {
      "model_module": "@jupyter-widgets/controls",
      "model_module_version": "1.5.0",
      "model_name": "ButtonModel",
      "state": {
       "description": "Un Boton",
       "layout": "IPY_MODEL_93229f3e077b44b6ae7e3bb0f224ab1c",
       "style": "IPY_MODEL_1d72b73ef1ec4682a35fdf93a895df75"
      }
     },
     "5104a6cfd52f49e3a3c7206ac4b46894": {
      "model_module": "@jupyter-widgets/controls",
      "model_module_version": "1.5.0",
      "model_name": "HBoxModel",
      "state": {
       "children": [
        "IPY_MODEL_eb1a00d678ee4005ad90f151055e467e",
        "IPY_MODEL_6cbd5fda520d45b59db82e726bd87fca"
       ],
       "layout": "IPY_MODEL_454f12a0036a4bcfabb001a3bca0d9db"
      }
     },
     "55109e92a16a45f8ae8a0eb4e483c8b0": {
      "model_module": "@jupyter-widgets/controls",
      "model_module_version": "1.5.0",
      "model_name": "ButtonStyleModel",
      "state": {}
     },
     "57bfaf067d7b4ae4a8d4337d88fac343": {
      "model_module": "@jupyter-widgets/controls",
      "model_module_version": "1.5.0",
      "model_name": "VBoxModel",
      "state": {
       "children": [
        "IPY_MODEL_ce0d427dbf594da2b564d039bf2da3e0",
        "IPY_MODEL_92c95bfba4bf43bdabc39a7ad66df268"
       ],
       "layout": "IPY_MODEL_3529374ed13c40059fca1be59713fb7e"
      }
     },
     "591a7ca057a44ecbb7de51c38fb54605": {
      "model_module": "@jupyter-widgets/controls",
      "model_module_version": "1.5.0",
      "model_name": "ButtonModel",
      "state": {
       "description": "Clear Figure",
       "layout": "IPY_MODEL_e9e4a94951aa4e2287feab5388f71956",
       "style": "IPY_MODEL_d98a8ef22a8544eba1518a96fc64a948"
      }
     },
     "596d22ac1fcc4cf5b2893e18f7149d81": {
      "model_module": "@jupyter-widgets/controls",
      "model_module_version": "1.5.0",
      "model_name": "GridBoxModel",
      "state": {
       "children": [
        "IPY_MODEL_ac0706fa621244b58f5a6ac82d26eff1",
        "IPY_MODEL_333a828aec6343c0b33fb6c4ed775650",
        "IPY_MODEL_b0bbe52014e54dce8cce2899c65aeea5",
        "IPY_MODEL_b928a557458b4819a82eb420f2e2f51e",
        "IPY_MODEL_b61d17faf0484eed8b955ced13beef54"
       ],
       "layout": "IPY_MODEL_50e09a7ba9ff43fb97f3d6d373e2b6b5"
      }
     },
     "5b16b87ef800413cb049e5a837543e08": {
      "model_module": "@jupyter-widgets/controls",
      "model_module_version": "1.5.0",
      "model_name": "SliderStyleModel",
      "state": {
       "description_width": ""
      }
     },
     "5b91e70a57dc4ec099d3924f5b2d0bd9": {
      "model_module": "@jupyter-widgets/base",
      "model_module_version": "1.2.0",
      "model_name": "LayoutModel",
      "state": {
       "border": "solid",
       "display": "flex",
       "width": "100%"
      }
     },
     "5e9d1a005451435dbda5b33d2969da50": {
      "model_module": "@jupyter-widgets/controls",
      "model_module_version": "1.5.0",
      "model_name": "ButtonStyleModel",
      "state": {}
     },
     "612be4d548a5421fbce1934df2bc6804": {
      "model_module": "@jupyter-widgets/base",
      "model_module_version": "1.2.0",
      "model_name": "LayoutModel",
      "state": {}
     },
     "62d004337e964faf9624236545c9e338": {
      "model_module": "@jupyter-widgets/base",
      "model_module_version": "1.2.0",
      "model_name": "LayoutModel",
      "state": {}
     },
     "64e1edc685944910ad2db6a2f3313d6a": {
      "model_module": "@jupyter-widgets/controls",
      "model_module_version": "1.5.0",
      "model_name": "TextModel",
      "state": {
       "description": "State:",
       "disabled": true,
       "layout": "IPY_MODEL_98641cf05d9d4406b4e58b8cb2d0e7cc",
       "style": "IPY_MODEL_652001131b0742d9949c0eaa40e9b623"
      }
     },
     "652001131b0742d9949c0eaa40e9b623": {
      "model_module": "@jupyter-widgets/controls",
      "model_module_version": "1.5.0",
      "model_name": "DescriptionStyleModel",
      "state": {
       "description_width": ""
      }
     },
     "6ad9da5e093644319c50ce588a7d7701": {
      "model_module": "@jupyter-widgets/controls",
      "model_module_version": "1.5.0",
      "model_name": "ButtonModel",
      "state": {
       "description": "Update",
       "layout": "IPY_MODEL_5091ff512ea941b0a655502e8423c549",
       "style": "IPY_MODEL_c5c981a6cae848769974f986951a2dc8"
      }
     },
     "6bca730cd81e4bcfa0f4ca0bf27de6c8": {
      "model_module": "@jupyter-widgets/controls",
      "model_module_version": "1.5.0",
      "model_name": "VBoxModel",
      "state": {
       "children": [
        "IPY_MODEL_ecfe275e819e413e883c9aed6956e0dd",
        "IPY_MODEL_358727fd417d4c01ace3bdaf5867d776"
       ],
       "layout": "IPY_MODEL_96ba9352683048eea50834f85b677e65"
      }
     },
     "6cbd5fda520d45b59db82e726bd87fca": {
      "model_module": "@jupyter-widgets/controls",
      "model_module_version": "1.5.0",
      "model_name": "TextModel",
      "state": {
       "layout": "IPY_MODEL_b2a2ae6536e3464e85bd2ec7e04bdc98",
       "style": "IPY_MODEL_2a7cc0e85a7849c1a589372dcae4f33d",
       "value": "text2"
      }
     },
     "6de5724ce348458391aa2db6c8534b9e": {
      "model_module": "@jupyter-widgets/base",
      "model_module_version": "1.2.0",
      "model_name": "LayoutModel",
      "state": {
       "display": "flex",
       "height": "600px",
       "overflow_x": "scroll",
       "overflow_y": "scroll",
       "width": "500px"
      }
     },
     "704f32418c6e4621a1feaeb8ae6193b1": {
      "model_module": "@jupyter-widgets/controls",
      "model_module_version": "1.5.0",
      "model_name": "DescriptionStyleModel",
      "state": {
       "description_width": ""
      }
     },
     "735869d331ba4d1aaf1cbc83144cee70": {
      "model_module": "@jupyter-widgets/base",
      "model_module_version": "1.2.0",
      "model_name": "LayoutModel",
      "state": {
       "border": "solid",
       "justify_content": "space-around",
       "width": "600px"
      }
     },
     "73e853ef8dbe4677a4c056c91468aae8": {
      "model_module": "jupyter-matplotlib",
      "model_module_version": "^0.5.0",
      "model_name": "ToolbarModel",
      "state": {
       "layout": "IPY_MODEL_fb3cf7945498440b96065eac37d9f24e",
       "toolitems": [
        [
         "Home",
         "Reset original view",
         "home",
         "home"
        ],
        [
         "Back",
         "Back to previous view",
         "arrow-left",
         "back"
        ],
        [
         "Forward",
         "Forward to next view",
         "arrow-right",
         "forward"
        ],
        [
         "Pan",
         "Pan axes with left mouse, zoom with right",
         "arrows",
         "pan"
        ],
        [
         "Zoom",
         "Zoom to rectangle",
         "square-o",
         "zoom"
        ],
        [
         "Download",
         "Download plot",
         "floppy-o",
         "save_figure"
        ]
       ]
      }
     },
     "784bb6e3ab8d4db78808cbcf2e5ef89d": {
      "model_module": "@jupyter-widgets/controls",
      "model_module_version": "1.5.0",
      "model_name": "DescriptionStyleModel",
      "state": {
       "description_width": ""
      }
     },
     "79e1a857e1e845179532701799ab4253": {
      "model_module": "@jupyter-widgets/controls",
      "model_module_version": "1.5.0",
      "model_name": "DescriptionStyleModel",
      "state": {
       "description_width": ""
      }
     },
     "7a66448060364609ba6abf7f5a6293c6": {
      "model_module": "@jupyter-widgets/controls",
      "model_module_version": "1.5.0",
      "model_name": "ButtonModel",
      "state": {
       "description": "Draw Figure",
       "layout": "IPY_MODEL_05ca2ec09675443a9a2113b96ca8dab7",
       "style": "IPY_MODEL_d96dad4064474308bb51472b0b9997b5"
      }
     },
     "7c59a14ae29241b0be825cf020fb0efd": {
      "model_module": "@jupyter-widgets/base",
      "model_module_version": "1.2.0",
      "model_name": "LayoutModel",
      "state": {
       "grid_area": "footer"
      }
     },
     "7d543d7e4eba4c88a947a31f00bc63ff": {
      "model_module": "@jupyter-widgets/controls",
      "model_module_version": "1.5.0",
      "model_name": "ButtonModel",
      "state": {
       "description": "B1",
       "layout": "IPY_MODEL_d6be7b4d410e433db9ae8de8fcc5f3c4",
       "style": "IPY_MODEL_c340b0e79ac341449aecb4170c3d9ba8"
      }
     },
     "82ea501b0f504c6c8aeac76c83820c12": {
      "model_module": "@jupyter-widgets/controls",
      "model_module_version": "1.5.0",
      "model_name": "CheckboxModel",
      "state": {
       "description": "SRC_NET",
       "disabled": false,
       "layout": "IPY_MODEL_e98ce4176f70420aa9fd8a9b790b68c1",
       "style": "IPY_MODEL_b164716ec6e14767907f29f6e16d4a9a",
       "value": false
      }
     },
     "839404d4b3734ee3a8d57f8cadb8011f": {
      "model_module": "jupyter-matplotlib",
      "model_module_version": "^0.5.0",
      "model_name": "MPLCanvasModel",
      "state": {
       "layout": "IPY_MODEL_411eae995d814e6f943f0bd6c5b0642b",
       "toolbar": "IPY_MODEL_73e853ef8dbe4677a4c056c91468aae8",
       "toolbar_position": "left"
      }
     },
     "8563eb854aba4d22ba6574be286c5d73": {
      "model_module": "@jupyter-widgets/controls",
      "model_module_version": "1.5.0",
      "model_name": "DescriptionStyleModel",
      "state": {
       "description_width": ""
      }
     },
     "85fe5b95d80246fab21ec20abc4def6a": {
      "model_module": "@jupyter-widgets/controls",
      "model_module_version": "1.5.0",
      "model_name": "HTMLModel",
      "state": {
       "layout": "IPY_MODEL_e19a4068f00f440cb0d5a6cc62a85c77",
       "style": "IPY_MODEL_784bb6e3ab8d4db78808cbcf2e5ef89d",
       "value": "<style  type=\"text/css\" >\n    #T_8075eb1e_49d4_11ea_8ae5_3af9d378ec91 tr:hover {\n          background-color: #F0F0F0;\n    }</style><table id=\"T_8075eb1e_49d4_11ea_8ae5_3af9d378ec91\" class=\"table\"><thead>    <tr>        <th class=\"blank level0\" ></th>        <th class=\"col_heading level0 col0\" >DST_NET</th>        <th class=\"col_heading level0 col1\" >SRC_NET</th>        <th class=\"col_heading level0 col2\" >TIME</th>        <th class=\"col_heading level0 col3\" >SRC_ROUTER</th>        <th class=\"col_heading level0 col4\" >DST_ROUTER</th>        <th class=\"col_heading level0 col5\" >SRC_AS</th>        <th class=\"col_heading level0 col6\" >DST_AS</th>        <th class=\"col_heading level0 col7\" >EGRESS_LINK</th>        <th class=\"col_heading level0 col8\" >INGRESS_LINK</th>        <th class=\"col_heading level0 col9\" >BW</th>    </tr></thead><tbody>\n                <tr>\n                        <th id=\"T_8075eb1e_49d4_11ea_8ae5_3af9d378ec91level0_row0\" class=\"row_heading level0 row0\" >0</th>\n                        <td id=\"T_8075eb1e_49d4_11ea_8ae5_3af9d378ec91row0_col0\" class=\"data row0 col0\" >2001:db8:0110::0/48</td>\n                        <td id=\"T_8075eb1e_49d4_11ea_8ae5_3af9d378ec91row0_col1\" class=\"data row0 col1\" >2001:db8:0210::0/48</td>\n                        <td id=\"T_8075eb1e_49d4_11ea_8ae5_3af9d378ec91row0_col2\" class=\"data row0 col2\" >2012-04-27 20:29:59.999997</td>\n                        <td id=\"T_8075eb1e_49d4_11ea_8ae5_3af9d378ec91row0_col3\" class=\"data row0 col3\" >Frankfurt</td>\n                        <td id=\"T_8075eb1e_49d4_11ea_8ae5_3af9d378ec91row0_col4\" class=\"data row0 col4\" >Frankfurt</td>\n                        <td id=\"T_8075eb1e_49d4_11ea_8ae5_3af9d378ec91row0_col5\" class=\"data row0 col5\" >6501</td>\n                        <td id=\"T_8075eb1e_49d4_11ea_8ae5_3af9d378ec91row0_col6\" class=\"data row0 col6\" >6500</td>\n                        <td id=\"T_8075eb1e_49d4_11ea_8ae5_3af9d378ec91row0_col7\" class=\"data row0 col7\" >Frankfurt_0</td>\n                        <td id=\"T_8075eb1e_49d4_11ea_8ae5_3af9d378ec91row0_col8\" class=\"data row0 col8\" >Frankfurt_1</td>\n                        <td id=\"T_8075eb1e_49d4_11ea_8ae5_3af9d378ec91row0_col9\" class=\"data row0 col9\" >3.21786e+06</td>\n            </tr>\n            <tr>\n                        <th id=\"T_8075eb1e_49d4_11ea_8ae5_3af9d378ec91level0_row1\" class=\"row_heading level0 row1\" >1</th>\n                        <td id=\"T_8075eb1e_49d4_11ea_8ae5_3af9d378ec91row1_col0\" class=\"data row1 col0\" >2001:db8:0110::0/48</td>\n                        <td id=\"T_8075eb1e_49d4_11ea_8ae5_3af9d378ec91row1_col1\" class=\"data row1 col1\" >2001:db8:0210::0/48</td>\n                        <td id=\"T_8075eb1e_49d4_11ea_8ae5_3af9d378ec91row1_col2\" class=\"data row1 col2\" >2012-04-27 21:00:00</td>\n                        <td id=\"T_8075eb1e_49d4_11ea_8ae5_3af9d378ec91row1_col3\" class=\"data row1 col3\" >Frankfurt</td>\n                        <td id=\"T_8075eb1e_49d4_11ea_8ae5_3af9d378ec91row1_col4\" class=\"data row1 col4\" >Frankfurt</td>\n                        <td id=\"T_8075eb1e_49d4_11ea_8ae5_3af9d378ec91row1_col5\" class=\"data row1 col5\" >6501</td>\n                        <td id=\"T_8075eb1e_49d4_11ea_8ae5_3af9d378ec91row1_col6\" class=\"data row1 col6\" >6500</td>\n                        <td id=\"T_8075eb1e_49d4_11ea_8ae5_3af9d378ec91row1_col7\" class=\"data row1 col7\" >Frankfurt_0</td>\n                        <td id=\"T_8075eb1e_49d4_11ea_8ae5_3af9d378ec91row1_col8\" class=\"data row1 col8\" >Frankfurt_1</td>\n                        <td id=\"T_8075eb1e_49d4_11ea_8ae5_3af9d378ec91row1_col9\" class=\"data row1 col9\" >3.4968e+06</td>\n            </tr>\n            <tr>\n                        <th id=\"T_8075eb1e_49d4_11ea_8ae5_3af9d378ec91level0_row2\" class=\"row_heading level0 row2\" >2</th>\n                        <td id=\"T_8075eb1e_49d4_11ea_8ae5_3af9d378ec91row2_col0\" class=\"data row2 col0\" >2001:db8:0110::0/48</td>\n                        <td id=\"T_8075eb1e_49d4_11ea_8ae5_3af9d378ec91row2_col1\" class=\"data row2 col1\" >2001:db8:0210::0/48</td>\n                        <td id=\"T_8075eb1e_49d4_11ea_8ae5_3af9d378ec91row2_col2\" class=\"data row2 col2\" >2012-04-27 21:30:00.000003</td>\n                        <td id=\"T_8075eb1e_49d4_11ea_8ae5_3af9d378ec91row2_col3\" class=\"data row2 col3\" >Frankfurt</td>\n                        <td id=\"T_8075eb1e_49d4_11ea_8ae5_3af9d378ec91row2_col4\" class=\"data row2 col4\" >Frankfurt</td>\n                        <td id=\"T_8075eb1e_49d4_11ea_8ae5_3af9d378ec91row2_col5\" class=\"data row2 col5\" >6501</td>\n                        <td id=\"T_8075eb1e_49d4_11ea_8ae5_3af9d378ec91row2_col6\" class=\"data row2 col6\" >6500</td>\n                        <td id=\"T_8075eb1e_49d4_11ea_8ae5_3af9d378ec91row2_col7\" class=\"data row2 col7\" >Frankfurt_0</td>\n                        <td id=\"T_8075eb1e_49d4_11ea_8ae5_3af9d378ec91row2_col8\" class=\"data row2 col8\" >Frankfurt_1</td>\n                        <td id=\"T_8075eb1e_49d4_11ea_8ae5_3af9d378ec91row2_col9\" class=\"data row2 col9\" >3.35918e+06</td>\n            </tr>\n            <tr>\n                        <th id=\"T_8075eb1e_49d4_11ea_8ae5_3af9d378ec91level0_row3\" class=\"row_heading level0 row3\" >3</th>\n                        <td id=\"T_8075eb1e_49d4_11ea_8ae5_3af9d378ec91row3_col0\" class=\"data row3 col0\" >2001:db8:0110::0/48</td>\n                        <td id=\"T_8075eb1e_49d4_11ea_8ae5_3af9d378ec91row3_col1\" class=\"data row3 col1\" >2001:db8:0210::0/48</td>\n                        <td id=\"T_8075eb1e_49d4_11ea_8ae5_3af9d378ec91row3_col2\" class=\"data row3 col2\" >2012-04-27 21:59:59.999997</td>\n                        <td id=\"T_8075eb1e_49d4_11ea_8ae5_3af9d378ec91row3_col3\" class=\"data row3 col3\" >Frankfurt</td>\n                        <td id=\"T_8075eb1e_49d4_11ea_8ae5_3af9d378ec91row3_col4\" class=\"data row3 col4\" >Frankfurt</td>\n                        <td id=\"T_8075eb1e_49d4_11ea_8ae5_3af9d378ec91row3_col5\" class=\"data row3 col5\" >6501</td>\n                        <td id=\"T_8075eb1e_49d4_11ea_8ae5_3af9d378ec91row3_col6\" class=\"data row3 col6\" >6500</td>\n                        <td id=\"T_8075eb1e_49d4_11ea_8ae5_3af9d378ec91row3_col7\" class=\"data row3 col7\" >Frankfurt_0</td>\n                        <td id=\"T_8075eb1e_49d4_11ea_8ae5_3af9d378ec91row3_col8\" class=\"data row3 col8\" >Frankfurt_1</td>\n                        <td id=\"T_8075eb1e_49d4_11ea_8ae5_3af9d378ec91row3_col9\" class=\"data row3 col9\" >3.7605e+06</td>\n            </tr>\n            <tr>\n                        <th id=\"T_8075eb1e_49d4_11ea_8ae5_3af9d378ec91level0_row4\" class=\"row_heading level0 row4\" >4</th>\n                        <td id=\"T_8075eb1e_49d4_11ea_8ae5_3af9d378ec91row4_col0\" class=\"data row4 col0\" >2001:db8:0110::0/48</td>\n                        <td id=\"T_8075eb1e_49d4_11ea_8ae5_3af9d378ec91row4_col1\" class=\"data row4 col1\" >2001:db8:0210::0/48</td>\n                        <td id=\"T_8075eb1e_49d4_11ea_8ae5_3af9d378ec91row4_col2\" class=\"data row4 col2\" >2012-04-27 22:30:00</td>\n                        <td id=\"T_8075eb1e_49d4_11ea_8ae5_3af9d378ec91row4_col3\" class=\"data row4 col3\" >Frankfurt</td>\n                        <td id=\"T_8075eb1e_49d4_11ea_8ae5_3af9d378ec91row4_col4\" class=\"data row4 col4\" >Frankfurt</td>\n                        <td id=\"T_8075eb1e_49d4_11ea_8ae5_3af9d378ec91row4_col5\" class=\"data row4 col5\" >6501</td>\n                        <td id=\"T_8075eb1e_49d4_11ea_8ae5_3af9d378ec91row4_col6\" class=\"data row4 col6\" >6500</td>\n                        <td id=\"T_8075eb1e_49d4_11ea_8ae5_3af9d378ec91row4_col7\" class=\"data row4 col7\" >Frankfurt_0</td>\n                        <td id=\"T_8075eb1e_49d4_11ea_8ae5_3af9d378ec91row4_col8\" class=\"data row4 col8\" >Frankfurt_1</td>\n                        <td id=\"T_8075eb1e_49d4_11ea_8ae5_3af9d378ec91row4_col9\" class=\"data row4 col9\" >3.19424e+06</td>\n            </tr>\n            <tr>\n                        <th id=\"T_8075eb1e_49d4_11ea_8ae5_3af9d378ec91level0_row5\" class=\"row_heading level0 row5\" >5</th>\n                        <td id=\"T_8075eb1e_49d4_11ea_8ae5_3af9d378ec91row5_col0\" class=\"data row5 col0\" >2001:db8:0110::0/48</td>\n                        <td id=\"T_8075eb1e_49d4_11ea_8ae5_3af9d378ec91row5_col1\" class=\"data row5 col1\" >2001:db8:0210::0/48</td>\n                        <td id=\"T_8075eb1e_49d4_11ea_8ae5_3af9d378ec91row5_col2\" class=\"data row5 col2\" >2012-04-27 23:00:00.000003</td>\n                        <td id=\"T_8075eb1e_49d4_11ea_8ae5_3af9d378ec91row5_col3\" class=\"data row5 col3\" >Frankfurt</td>\n                        <td id=\"T_8075eb1e_49d4_11ea_8ae5_3af9d378ec91row5_col4\" class=\"data row5 col4\" >Frankfurt</td>\n                        <td id=\"T_8075eb1e_49d4_11ea_8ae5_3af9d378ec91row5_col5\" class=\"data row5 col5\" >6501</td>\n                        <td id=\"T_8075eb1e_49d4_11ea_8ae5_3af9d378ec91row5_col6\" class=\"data row5 col6\" >6500</td>\n                        <td id=\"T_8075eb1e_49d4_11ea_8ae5_3af9d378ec91row5_col7\" class=\"data row5 col7\" >Frankfurt_0</td>\n                        <td id=\"T_8075eb1e_49d4_11ea_8ae5_3af9d378ec91row5_col8\" class=\"data row5 col8\" >Frankfurt_1</td>\n                        <td id=\"T_8075eb1e_49d4_11ea_8ae5_3af9d378ec91row5_col9\" class=\"data row5 col9\" >3.64046e+06</td>\n            </tr>\n            <tr>\n                        <th id=\"T_8075eb1e_49d4_11ea_8ae5_3af9d378ec91level0_row6\" class=\"row_heading level0 row6\" >6</th>\n                        <td id=\"T_8075eb1e_49d4_11ea_8ae5_3af9d378ec91row6_col0\" class=\"data row6 col0\" >2001:db8:0110::0/48</td>\n                        <td id=\"T_8075eb1e_49d4_11ea_8ae5_3af9d378ec91row6_col1\" class=\"data row6 col1\" >2001:db8:0210::0/48</td>\n                        <td id=\"T_8075eb1e_49d4_11ea_8ae5_3af9d378ec91row6_col2\" class=\"data row6 col2\" >2012-04-27 23:29:59.999997</td>\n                        <td id=\"T_8075eb1e_49d4_11ea_8ae5_3af9d378ec91row6_col3\" class=\"data row6 col3\" >Frankfurt</td>\n                        <td id=\"T_8075eb1e_49d4_11ea_8ae5_3af9d378ec91row6_col4\" class=\"data row6 col4\" >Frankfurt</td>\n                        <td id=\"T_8075eb1e_49d4_11ea_8ae5_3af9d378ec91row6_col5\" class=\"data row6 col5\" >6501</td>\n                        <td id=\"T_8075eb1e_49d4_11ea_8ae5_3af9d378ec91row6_col6\" class=\"data row6 col6\" >6500</td>\n                        <td id=\"T_8075eb1e_49d4_11ea_8ae5_3af9d378ec91row6_col7\" class=\"data row6 col7\" >Frankfurt_0</td>\n                        <td id=\"T_8075eb1e_49d4_11ea_8ae5_3af9d378ec91row6_col8\" class=\"data row6 col8\" >Frankfurt_1</td>\n                        <td id=\"T_8075eb1e_49d4_11ea_8ae5_3af9d378ec91row6_col9\" class=\"data row6 col9\" >3.57704e+06</td>\n            </tr>\n            <tr>\n                        <th id=\"T_8075eb1e_49d4_11ea_8ae5_3af9d378ec91level0_row7\" class=\"row_heading level0 row7\" >7</th>\n                        <td id=\"T_8075eb1e_49d4_11ea_8ae5_3af9d378ec91row7_col0\" class=\"data row7 col0\" >2001:db8:0110::0/48</td>\n                        <td id=\"T_8075eb1e_49d4_11ea_8ae5_3af9d378ec91row7_col1\" class=\"data row7 col1\" >2001:db8:0210::0/48</td>\n                        <td id=\"T_8075eb1e_49d4_11ea_8ae5_3af9d378ec91row7_col2\" class=\"data row7 col2\" >2012-04-28 00:00:00</td>\n                        <td id=\"T_8075eb1e_49d4_11ea_8ae5_3af9d378ec91row7_col3\" class=\"data row7 col3\" >Frankfurt</td>\n                        <td id=\"T_8075eb1e_49d4_11ea_8ae5_3af9d378ec91row7_col4\" class=\"data row7 col4\" >Frankfurt</td>\n                        <td id=\"T_8075eb1e_49d4_11ea_8ae5_3af9d378ec91row7_col5\" class=\"data row7 col5\" >6501</td>\n                        <td id=\"T_8075eb1e_49d4_11ea_8ae5_3af9d378ec91row7_col6\" class=\"data row7 col6\" >6500</td>\n                        <td id=\"T_8075eb1e_49d4_11ea_8ae5_3af9d378ec91row7_col7\" class=\"data row7 col7\" >Frankfurt_0</td>\n                        <td id=\"T_8075eb1e_49d4_11ea_8ae5_3af9d378ec91row7_col8\" class=\"data row7 col8\" >Frankfurt_1</td>\n                        <td id=\"T_8075eb1e_49d4_11ea_8ae5_3af9d378ec91row7_col9\" class=\"data row7 col9\" >2.79935e+06</td>\n            </tr>\n            <tr>\n                        <th id=\"T_8075eb1e_49d4_11ea_8ae5_3af9d378ec91level0_row8\" class=\"row_heading level0 row8\" >8</th>\n                        <td id=\"T_8075eb1e_49d4_11ea_8ae5_3af9d378ec91row8_col0\" class=\"data row8 col0\" >2001:db8:0110::0/48</td>\n                        <td id=\"T_8075eb1e_49d4_11ea_8ae5_3af9d378ec91row8_col1\" class=\"data row8 col1\" >2001:db8:0210::0/48</td>\n                        <td id=\"T_8075eb1e_49d4_11ea_8ae5_3af9d378ec91row8_col2\" class=\"data row8 col2\" >2012-04-28 00:30:00.000003</td>\n                        <td id=\"T_8075eb1e_49d4_11ea_8ae5_3af9d378ec91row8_col3\" class=\"data row8 col3\" >Frankfurt</td>\n                        <td id=\"T_8075eb1e_49d4_11ea_8ae5_3af9d378ec91row8_col4\" class=\"data row8 col4\" >Frankfurt</td>\n                        <td id=\"T_8075eb1e_49d4_11ea_8ae5_3af9d378ec91row8_col5\" class=\"data row8 col5\" >6501</td>\n                        <td id=\"T_8075eb1e_49d4_11ea_8ae5_3af9d378ec91row8_col6\" class=\"data row8 col6\" >6500</td>\n                        <td id=\"T_8075eb1e_49d4_11ea_8ae5_3af9d378ec91row8_col7\" class=\"data row8 col7\" >Frankfurt_0</td>\n                        <td id=\"T_8075eb1e_49d4_11ea_8ae5_3af9d378ec91row8_col8\" class=\"data row8 col8\" >Frankfurt_1</td>\n                        <td id=\"T_8075eb1e_49d4_11ea_8ae5_3af9d378ec91row8_col9\" class=\"data row8 col9\" >2.28846e+06</td>\n            </tr>\n            <tr>\n                        <th id=\"T_8075eb1e_49d4_11ea_8ae5_3af9d378ec91level0_row9\" class=\"row_heading level0 row9\" >9</th>\n                        <td id=\"T_8075eb1e_49d4_11ea_8ae5_3af9d378ec91row9_col0\" class=\"data row9 col0\" >2001:db8:0110::0/48</td>\n                        <td id=\"T_8075eb1e_49d4_11ea_8ae5_3af9d378ec91row9_col1\" class=\"data row9 col1\" >2001:db8:0210::0/48</td>\n                        <td id=\"T_8075eb1e_49d4_11ea_8ae5_3af9d378ec91row9_col2\" class=\"data row9 col2\" >2012-04-28 00:59:59.999997</td>\n                        <td id=\"T_8075eb1e_49d4_11ea_8ae5_3af9d378ec91row9_col3\" class=\"data row9 col3\" >Frankfurt</td>\n                        <td id=\"T_8075eb1e_49d4_11ea_8ae5_3af9d378ec91row9_col4\" class=\"data row9 col4\" >Frankfurt</td>\n                        <td id=\"T_8075eb1e_49d4_11ea_8ae5_3af9d378ec91row9_col5\" class=\"data row9 col5\" >6501</td>\n                        <td id=\"T_8075eb1e_49d4_11ea_8ae5_3af9d378ec91row9_col6\" class=\"data row9 col6\" >6500</td>\n                        <td id=\"T_8075eb1e_49d4_11ea_8ae5_3af9d378ec91row9_col7\" class=\"data row9 col7\" >Frankfurt_0</td>\n                        <td id=\"T_8075eb1e_49d4_11ea_8ae5_3af9d378ec91row9_col8\" class=\"data row9 col8\" >Frankfurt_1</td>\n                        <td id=\"T_8075eb1e_49d4_11ea_8ae5_3af9d378ec91row9_col9\" class=\"data row9 col9\" >1.60755e+06</td>\n            </tr>\n    </tbody></table>"
      }
     },
     "8a830f17e00d40c1bac72f2ec61c4827": {
      "model_module": "@jupyter-widgets/base",
      "model_module_version": "1.2.0",
      "model_name": "LayoutModel",
      "state": {
       "display": "flex",
       "height": "300px",
       "overflow_x": "scroll",
       "width": "900px"
      }
     },
     "8cd5e50c5e3f47e3b8741cca152d90ee": {
      "model_module": "@jupyter-widgets/controls",
      "model_module_version": "1.5.0",
      "model_name": "IntSliderModel",
      "state": {
       "layout": "IPY_MODEL_248616776a644c958a80b40a73443ae8",
       "style": "IPY_MODEL_5b16b87ef800413cb049e5a837543e08"
      }
     },
     "9094b557021f44fba47a3644afadf312": {
      "model_module": "@jupyter-widgets/controls",
      "model_module_version": "1.5.0",
      "model_name": "DescriptionStyleModel",
      "state": {
       "description_width": ""
      }
     },
     "927628fd213b421f80131ebcafe8cf06": {
      "model_module": "@jupyter-widgets/base",
      "model_module_version": "1.2.0",
      "model_name": "LayoutModel",
      "state": {}
     },
     "92c95bfba4bf43bdabc39a7ad66df268": {
      "model_module": "@jupyter-widgets/controls",
      "model_module_version": "1.5.0",
      "model_name": "TextModel",
      "state": {
       "layout": "IPY_MODEL_ea6f6fcefb8a47878f1d2db14907c411",
       "style": "IPY_MODEL_1b4b30cc5f804088b850029a62a63c2f",
       "value": "text1"
      }
     },
     "93229f3e077b44b6ae7e3bb0f224ab1c": {
      "model_module": "@jupyter-widgets/base",
      "model_module_version": "1.2.0",
      "model_name": "LayoutModel",
      "state": {}
     },
     "9499db1d7e9f45fbaf7d88a3ee184202": {
      "model_module": "@jupyter-widgets/base",
      "model_module_version": "1.2.0",
      "model_name": "LayoutModel",
      "state": {
       "display": "flex",
       "height": "300px",
       "overflow_x": "scroll",
       "width": "900px"
      }
     },
     "96ba9352683048eea50834f85b677e65": {
      "model_module": "@jupyter-widgets/base",
      "model_module_version": "1.2.0",
      "model_name": "LayoutModel",
      "state": {
       "height": "700px",
       "width": "1000px"
      }
     },
     "98641cf05d9d4406b4e58b8cb2d0e7cc": {
      "model_module": "@jupyter-widgets/base",
      "model_module_version": "1.2.0",
      "model_name": "LayoutModel",
      "state": {}
     },
     "9fad8ea74d1e40c8989ce41fd58124ab": {
      "model_module": "@jupyter-widgets/base",
      "model_module_version": "1.2.0",
      "model_name": "LayoutModel",
      "state": {
       "height": "650px",
       "width": "1000px"
      }
     },
     "a0c7f4ae45c84b7b86fd955a1cc59cd2": {
      "model_module": "@jupyter-widgets/controls",
      "model_module_version": "1.5.0",
      "model_name": "ButtonStyleModel",
      "state": {}
     },
     "a111b6ee66b64f779039733d58770691": {
      "model_module": "@jupyter-widgets/base",
      "model_module_version": "1.2.0",
      "model_name": "LayoutModel",
      "state": {
       "align_items": "stretch",
       "border": "solid",
       "display": "flex",
       "flex_flow": "column",
       "width": "100%"
      }
     },
     "a2b7426cd39d4a8fa884425b33ff60dc": {
      "model_module": "@jupyter-widgets/base",
      "model_module_version": "1.2.0",
      "model_name": "LayoutModel",
      "state": {
       "height": "282.0px",
       "min_height": "282.0px",
       "min_width": "300px",
       "width": "300px"
      }
     },
     "a569169b4b764e6b961a05ca638d5341": {
      "model_module": "@jupyter-widgets/base",
      "model_module_version": "1.2.0",
      "model_name": "LayoutModel",
      "state": {
       "grid_area": "center"
      }
     },
     "a91e38c265ff41058d2938155e800b8b": {
      "model_module": "@jupyter-widgets/base",
      "model_module_version": "1.2.0",
      "model_name": "LayoutModel",
      "state": {}
     },
     "a9f390fc24da49738d685df73e53a1ad": {
      "model_module": "@jupyter-widgets/base",
      "model_module_version": "1.2.0",
      "model_name": "LayoutModel",
      "state": {}
     },
     "abc6c0bec7fd469089578a6e9e30627a": {
      "model_module": "@jupyter-widgets/controls",
      "model_module_version": "1.5.0",
      "model_name": "DescriptionStyleModel",
      "state": {
       "description_width": ""
      }
     },
     "ac0706fa621244b58f5a6ac82d26eff1": {
      "model_module": "@jupyter-widgets/controls",
      "model_module_version": "1.5.0",
      "model_name": "ButtonModel",
      "state": {
       "description": "header",
       "layout": "IPY_MODEL_228d56f5919a468d82da044894b07c78",
       "style": "IPY_MODEL_e098bf883fcb435a9e28a0f9863b43c5"
      }
     },
     "b0bbe52014e54dce8cce2899c65aeea5": {
      "model_module": "@jupyter-widgets/controls",
      "model_module_version": "1.5.0",
      "model_name": "ButtonModel",
      "state": {
       "description": "left",
       "layout": "IPY_MODEL_486e6c7f0bcc4e538a3fd1c47a325b00",
       "style": "IPY_MODEL_3cf6aeae4ba94cd79b972fb58d8ec0d3"
      }
     },
     "b164716ec6e14767907f29f6e16d4a9a": {
      "model_module": "@jupyter-widgets/controls",
      "model_module_version": "1.5.0",
      "model_name": "DescriptionStyleModel",
      "state": {
       "description_width": ""
      }
     },
     "b2a2ae6536e3464e85bd2ec7e04bdc98": {
      "model_module": "@jupyter-widgets/base",
      "model_module_version": "1.2.0",
      "model_name": "LayoutModel",
      "state": {}
     },
     "b2b873abbbb748caaa3c61e61fa62014": {
      "model_module": "jupyter-matplotlib",
      "model_module_version": "^0.5.0",
      "model_name": "ToolbarModel",
      "state": {
       "layout": "IPY_MODEL_031a5115948549a290ffea662538ae97",
       "toolitems": [
        [
         "Home",
         "Reset original view",
         "home",
         "home"
        ],
        [
         "Back",
         "Back to previous view",
         "arrow-left",
         "back"
        ],
        [
         "Forward",
         "Forward to next view",
         "arrow-right",
         "forward"
        ],
        [
         "Pan",
         "Pan axes with left mouse, zoom with right",
         "arrows",
         "pan"
        ],
        [
         "Zoom",
         "Zoom to rectangle",
         "square-o",
         "zoom"
        ],
        [
         "Download",
         "Download plot",
         "floppy-o",
         "save_figure"
        ]
       ]
      }
     },
     "b3cfba6cb3d341a5ac065d8335733821": {
      "model_module": "@jupyter-widgets/base",
      "model_module_version": "1.2.0",
      "model_name": "LayoutModel",
      "state": {
       "height": "138px",
       "min_width": "300px",
       "width": "300px"
      }
     },
     "b61d17faf0484eed8b955ced13beef54": {
      "model_module": "@jupyter-widgets/controls",
      "model_module_version": "1.5.0",
      "model_name": "TabModel",
      "state": {
       "_titles": {
        "0": "V",
        "1": "H"
       },
       "children": [
        "IPY_MODEL_57bfaf067d7b4ae4a8d4337d88fac343",
        "IPY_MODEL_5104a6cfd52f49e3a3c7206ac4b46894"
       ],
       "layout": "IPY_MODEL_a569169b4b764e6b961a05ca638d5341"
      }
     },
     "b928a557458b4819a82eb420f2e2f51e": {
      "model_module": "@jupyter-widgets/controls",
      "model_module_version": "1.5.0",
      "model_name": "ButtonModel",
      "state": {
       "description": "right",
       "layout": "IPY_MODEL_12f573a3939f4002b26a43c14b279a68",
       "style": "IPY_MODEL_e44bca91c10a480695a12a186cea036e"
      }
     },
     "b9979070bc0f4c8da3fdd4085c0b3aaf": {
      "model_module": "@jupyter-widgets/controls",
      "model_module_version": "1.5.0",
      "model_name": "ButtonModel",
      "state": {
       "description": "B2",
       "layout": "IPY_MODEL_11be601eaa8245da90e668fdf6f4d466",
       "style": "IPY_MODEL_55109e92a16a45f8ae8a0eb4e483c8b0"
      }
     },
     "b9d09fea7d844ecbbc1560c228c06a48": {
      "model_module": "@jupyter-widgets/base",
      "model_module_version": "1.2.0",
      "model_name": "LayoutModel",
      "state": {}
     },
     "bb2bb80eab344b61a33eb3ff897b3e58": {
      "model_module": "@jupyter-widgets/controls",
      "model_module_version": "1.5.0",
      "model_name": "DescriptionStyleModel",
      "state": {
       "description_width": ""
      }
     },
     "bf10e0b2e43447a788b574db1695bd49": {
      "model_module": "@jupyter-widgets/controls",
      "model_module_version": "1.5.0",
      "model_name": "CheckboxModel",
      "state": {
       "description": "INGRESS_LINK",
       "disabled": false,
       "layout": "IPY_MODEL_a91e38c265ff41058d2938155e800b8b",
       "style": "IPY_MODEL_ef8d17527ba446189a273d68f1f23e27",
       "value": false
      }
     },
     "bf42278f02e34a4a9f88d93b73e01028": {
      "model_module": "@jupyter-widgets/controls",
      "model_module_version": "1.5.0",
      "model_name": "ButtonStyleModel",
      "state": {}
     },
     "bf92ec7101b642d79546df5229ac9895": {
      "model_module": "@jupyter-widgets/base",
      "model_module_version": "1.2.0",
      "model_name": "LayoutModel",
      "state": {}
     },
     "c23bd5959bfa4579b846f6740d6bd11e": {
      "model_module": "@jupyter-widgets/controls",
      "model_module_version": "1.5.0",
      "model_name": "ButtonModel",
      "state": {
       "description": "Titulo",
       "layout": "IPY_MODEL_0383e086680948c9b2efcb0ff81952bd",
       "style": "IPY_MODEL_06dd84f8090a4a41836043705218dbfc"
      }
     },
     "c329e291997641ff9639ac3ff69d09b1": {
      "model_module": "@jupyter-widgets/base",
      "model_module_version": "1.2.0",
      "model_name": "LayoutModel",
      "state": {
       "height": "138px",
       "min_width": "300px",
       "width": "300px"
      }
     },
     "c340b0e79ac341449aecb4170c3d9ba8": {
      "model_module": "@jupyter-widgets/controls",
      "model_module_version": "1.5.0",
      "model_name": "ButtonStyleModel",
      "state": {}
     },
     "c5c981a6cae848769974f986951a2dc8": {
      "model_module": "@jupyter-widgets/controls",
      "model_module_version": "1.5.0",
      "model_name": "ButtonStyleModel",
      "state": {}
     },
     "c7921b3b07294c00bc211d87f37e9a18": {
      "model_module": "@jupyter-widgets/controls",
      "model_module_version": "1.5.0",
      "model_name": "HBoxModel",
      "state": {
       "children": [
        "IPY_MODEL_4e085525ea6e41af8d56c3ddf2de05dd",
        "IPY_MODEL_e0edd436cc31471a91daac5f2617875e"
       ],
       "layout": "IPY_MODEL_bf92ec7101b642d79546df5229ac9895"
      }
     },
     "c7d56e723d754ccaa38159bff3b604d6": {
      "model_module": "@jupyter-widgets/base",
      "model_module_version": "1.2.0",
      "model_name": "LayoutModel",
      "state": {}
     },
     "c7dd2545bd2d4c8395dacf05e6090d75": {
      "model_module": "@jupyter-widgets/controls",
      "model_module_version": "1.5.0",
      "model_name": "ButtonStyleModel",
      "state": {}
     },
     "cb971440da0c4b789aaa21095b852c17": {
      "model_module": "@jupyter-widgets/base",
      "model_module_version": "1.2.0",
      "model_name": "LayoutModel",
      "state": {}
     },
     "cbd5d03128834435aff7b1b1ff010b58": {
      "model_module": "@jupyter-widgets/controls",
      "model_module_version": "1.5.0",
      "model_name": "CheckboxModel",
      "state": {
       "description": "SRC_AS",
       "disabled": false,
       "layout": "IPY_MODEL_e8d2c4d1f70d49a7a2c9c5d66578fdf2",
       "style": "IPY_MODEL_704f32418c6e4621a1feaeb8ae6193b1",
       "value": false
      }
     },
     "cc60faf982994f27bade1441e302624e": {
      "model_module": "@jupyter-widgets/controls",
      "model_module_version": "1.5.0",
      "model_name": "HBoxModel",
      "state": {
       "children": [
        "IPY_MODEL_50592cf8abe5452c84fc80b6d3adce5c",
        "IPY_MODEL_591a7ca057a44ecbb7de51c38fb54605",
        "IPY_MODEL_7a66448060364609ba6abf7f5a6293c6"
       ],
       "layout": "IPY_MODEL_a9f390fc24da49738d685df73e53a1ad"
      }
     },
     "cd0474f4d85d468e8bb01b2a4cb061c1": {
      "model_module": "@jupyter-widgets/base",
      "model_module_version": "1.2.0",
      "model_name": "LayoutModel",
      "state": {}
     },
     "ce0d427dbf594da2b564d039bf2da3e0": {
      "model_module": "@jupyter-widgets/controls",
      "model_module_version": "1.5.0",
      "model_name": "ButtonModel",
      "state": {
       "description": "Button1",
       "layout": "IPY_MODEL_2776558394b14084ae7fb1eeef4461c0",
       "style": "IPY_MODEL_5e9d1a005451435dbda5b33d2969da50"
      }
     },
     "ceac20bd1e434c42ac9ea24f6bd89be7": {
      "model_module": "@jupyter-widgets/base",
      "model_module_version": "1.2.0",
      "model_name": "LayoutModel",
      "state": {}
     },
     "d211123fdc484e8183a4b170ff0d1e45": {
      "model_module": "@jupyter-widgets/controls",
      "model_module_version": "1.5.0",
      "model_name": "ButtonStyleModel",
      "state": {}
     },
     "d5c82c48cfb94387bb38ea1258dbfd5f": {
      "model_module": "@jupyter-widgets/controls",
      "model_module_version": "1.5.0",
      "model_name": "DescriptionStyleModel",
      "state": {
       "description_width": ""
      }
     },
     "d6be7b4d410e433db9ae8de8fcc5f3c4": {
      "model_module": "@jupyter-widgets/base",
      "model_module_version": "1.2.0",
      "model_name": "LayoutModel",
      "state": {}
     },
     "d6c8fe446bbf4d10b70d28f268cd78a4": {
      "model_module": "@jupyter-widgets/base",
      "model_module_version": "1.2.0",
      "model_name": "LayoutModel",
      "state": {}
     },
     "d96dad4064474308bb51472b0b9997b5": {
      "model_module": "@jupyter-widgets/controls",
      "model_module_version": "1.5.0",
      "model_name": "ButtonStyleModel",
      "state": {}
     },
     "d98a8ef22a8544eba1518a96fc64a948": {
      "model_module": "@jupyter-widgets/controls",
      "model_module_version": "1.5.0",
      "model_name": "ButtonStyleModel",
      "state": {}
     },
     "da64940374034ce895fcad228c116016": {
      "model_module": "@jupyter-widgets/base",
      "model_module_version": "1.2.0",
      "model_name": "LayoutModel",
      "state": {}
     },
     "db052c5b276a498194a27789d0a465c9": {
      "model_module": "jupyter-matplotlib",
      "model_module_version": "^0.5.0",
      "model_name": "ToolbarModel",
      "state": {
       "layout": "IPY_MODEL_cb971440da0c4b789aaa21095b852c17",
       "toolitems": [
        [
         "Home",
         "Reset original view",
         "home",
         "home"
        ],
        [
         "Back",
         "Back to previous view",
         "arrow-left",
         "back"
        ],
        [
         "Forward",
         "Forward to next view",
         "arrow-right",
         "forward"
        ],
        [
         "Pan",
         "Pan axes with left mouse, zoom with right",
         "arrows",
         "pan"
        ],
        [
         "Zoom",
         "Zoom to rectangle",
         "square-o",
         "zoom"
        ],
        [
         "Download",
         "Download plot",
         "floppy-o",
         "save_figure"
        ]
       ]
      }
     },
     "dc9514e90ae44484a08f628b7af79171": {
      "model_module": "@jupyter-widgets/controls",
      "model_module_version": "1.5.0",
      "model_name": "CheckboxModel",
      "state": {
       "description": "EGRESS_LINK",
       "disabled": false,
       "layout": "IPY_MODEL_da64940374034ce895fcad228c116016",
       "style": "IPY_MODEL_5072e2cea5fd4125b34226ed539928c3",
       "value": false
      }
     },
     "df3d6e0d00e8459db32c85176632595d": {
      "model_module": "@jupyter-widgets/base",
      "model_module_version": "1.2.0",
      "model_name": "LayoutModel",
      "state": {
       "height": "282.0px",
       "min_height": "282.0px",
       "min_width": "300px",
       "width": "300px"
      }
     },
     "dffcbef7bab4408a812130a0ded974f3": {
      "model_module": "@jupyter-widgets/controls",
      "model_module_version": "1.5.0",
      "model_name": "HBoxModel",
      "state": {
       "children": [
        "IPY_MODEL_e76daa32ef5742848cea7739094e1e92"
       ],
       "layout": "IPY_MODEL_9499db1d7e9f45fbaf7d88a3ee184202"
      }
     },
     "e098bf883fcb435a9e28a0f9863b43c5": {
      "model_module": "@jupyter-widgets/controls",
      "model_module_version": "1.5.0",
      "model_name": "ButtonStyleModel",
      "state": {}
     },
     "e0edd436cc31471a91daac5f2617875e": {
      "model_module": "@jupyter-widgets/output",
      "model_module_version": "1.0.0",
      "model_name": "OutputModel",
      "state": {
       "layout": "IPY_MODEL_33172428aaf84a719e750ea8e8add3f3",
       "outputs": [
        {
         "data": {
          "text/html": "<div>\n<style scoped>\n    .dataframe tbody tr th:only-of-type {\n        vertical-align: middle;\n    }\n\n    .dataframe tbody tr th {\n        vertical-align: top;\n    }\n\n    .dataframe thead th {\n        text-align: right;\n    }\n</style>\n<table border=\"1\" class=\"dataframe\">\n  <thead>\n    <tr style=\"text-align: right;\">\n      <th></th>\n      <th>DST_NET</th>\n      <th>SRC_NET</th>\n      <th>TIME</th>\n      <th>SRC_ROUTER</th>\n      <th>DST_ROUTER</th>\n      <th>SRC_AS</th>\n      <th>DST_AS</th>\n      <th>EGRESS_LINK</th>\n      <th>INGRESS_LINK</th>\n      <th>BW</th>\n    </tr>\n  </thead>\n  <tbody>\n    <tr>\n      <th>10</th>\n      <td>2001:db8:0110::0/48</td>\n      <td>2001:db8:0210::0/48</td>\n      <td>2012-04-28 01:30:00.000000</td>\n      <td>Frankfurt</td>\n      <td>Frankfurt</td>\n      <td>6501</td>\n      <td>6500</td>\n      <td>Frankfurt_0</td>\n      <td>Frankfurt_1</td>\n      <td>1.296666e+06</td>\n    </tr>\n    <tr>\n      <th>11</th>\n      <td>2001:db8:0110::0/48</td>\n      <td>2001:db8:0210::0/48</td>\n      <td>2012-04-28 02:00:00.000003</td>\n      <td>Frankfurt</td>\n      <td>Frankfurt</td>\n      <td>6501</td>\n      <td>6500</td>\n      <td>Frankfurt_0</td>\n      <td>Frankfurt_1</td>\n      <td>8.565613e+05</td>\n    </tr>\n    <tr>\n      <th>12</th>\n      <td>2001:db8:0110::0/48</td>\n      <td>2001:db8:0210::0/48</td>\n      <td>2012-04-28 02:29:59.999997</td>\n      <td>Frankfurt</td>\n      <td>Frankfurt</td>\n      <td>6501</td>\n      <td>6500</td>\n      <td>Frankfurt_0</td>\n      <td>Frankfurt_1</td>\n      <td>7.307657e+05</td>\n    </tr>\n    <tr>\n      <th>13</th>\n      <td>2001:db8:0110::0/48</td>\n      <td>2001:db8:0210::0/48</td>\n      <td>2012-04-28 03:00:00.000000</td>\n      <td>Frankfurt</td>\n      <td>Frankfurt</td>\n      <td>6501</td>\n      <td>6500</td>\n      <td>Frankfurt_0</td>\n      <td>Frankfurt_1</td>\n      <td>5.605154e+05</td>\n    </tr>\n    <tr>\n      <th>14</th>\n      <td>2001:db8:0110::0/48</td>\n      <td>2001:db8:0210::0/48</td>\n      <td>2012-04-28 03:30:00.000003</td>\n      <td>Frankfurt</td>\n      <td>Frankfurt</td>\n      <td>6501</td>\n      <td>6500</td>\n      <td>Frankfurt_0</td>\n      <td>Frankfurt_1</td>\n      <td>5.547593e+05</td>\n    </tr>\n    <tr>\n      <th>15</th>\n      <td>2001:db8:0110::0/48</td>\n      <td>2001:db8:0210::0/48</td>\n      <td>2012-04-28 03:59:59.999997</td>\n      <td>Frankfurt</td>\n      <td>Frankfurt</td>\n      <td>6501</td>\n      <td>6500</td>\n      <td>Frankfurt_0</td>\n      <td>Frankfurt_1</td>\n      <td>4.275092e+05</td>\n    </tr>\n    <tr>\n      <th>16</th>\n      <td>2001:db8:0110::0/48</td>\n      <td>2001:db8:0210::0/48</td>\n      <td>2012-04-28 04:30:00.000000</td>\n      <td>Frankfurt</td>\n      <td>Frankfurt</td>\n      <td>6501</td>\n      <td>6500</td>\n      <td>Frankfurt_0</td>\n      <td>Frankfurt_1</td>\n      <td>4.310318e+05</td>\n    </tr>\n    <tr>\n      <th>17</th>\n      <td>2001:db8:0110::0/48</td>\n      <td>2001:db8:0210::0/48</td>\n      <td>2012-04-28 05:00:00.000003</td>\n      <td>Frankfurt</td>\n      <td>Frankfurt</td>\n      <td>6501</td>\n      <td>6500</td>\n      <td>Frankfurt_0</td>\n      <td>Frankfurt_1</td>\n      <td>4.943914e+05</td>\n    </tr>\n    <tr>\n      <th>18</th>\n      <td>2001:db8:0110::0/48</td>\n      <td>2001:db8:0210::0/48</td>\n      <td>2012-04-28 05:29:59.999997</td>\n      <td>Frankfurt</td>\n      <td>Frankfurt</td>\n      <td>6501</td>\n      <td>6500</td>\n      <td>Frankfurt_0</td>\n      <td>Frankfurt_1</td>\n      <td>4.873768e+05</td>\n    </tr>\n    <tr>\n      <th>19</th>\n      <td>2001:db8:0110::0/48</td>\n      <td>2001:db8:0210::0/48</td>\n      <td>2012-04-28 06:00:00.000000</td>\n      <td>Frankfurt</td>\n      <td>Frankfurt</td>\n      <td>6501</td>\n      <td>6500</td>\n      <td>Frankfurt_0</td>\n      <td>Frankfurt_1</td>\n      <td>5.984367e+05</td>\n    </tr>\n  </tbody>\n</table>\n</div>",
          "text/plain": "                DST_NET              SRC_NET                       TIME  \\\n10  2001:db8:0110::0/48  2001:db8:0210::0/48 2012-04-28 01:30:00.000000   \n11  2001:db8:0110::0/48  2001:db8:0210::0/48 2012-04-28 02:00:00.000003   \n12  2001:db8:0110::0/48  2001:db8:0210::0/48 2012-04-28 02:29:59.999997   \n13  2001:db8:0110::0/48  2001:db8:0210::0/48 2012-04-28 03:00:00.000000   \n14  2001:db8:0110::0/48  2001:db8:0210::0/48 2012-04-28 03:30:00.000003   \n15  2001:db8:0110::0/48  2001:db8:0210::0/48 2012-04-28 03:59:59.999997   \n16  2001:db8:0110::0/48  2001:db8:0210::0/48 2012-04-28 04:30:00.000000   \n17  2001:db8:0110::0/48  2001:db8:0210::0/48 2012-04-28 05:00:00.000003   \n18  2001:db8:0110::0/48  2001:db8:0210::0/48 2012-04-28 05:29:59.999997   \n19  2001:db8:0110::0/48  2001:db8:0210::0/48 2012-04-28 06:00:00.000000   \n\n   SRC_ROUTER DST_ROUTER  SRC_AS  DST_AS  EGRESS_LINK INGRESS_LINK  \\\n10  Frankfurt  Frankfurt    6501    6500  Frankfurt_0  Frankfurt_1   \n11  Frankfurt  Frankfurt    6501    6500  Frankfurt_0  Frankfurt_1   \n12  Frankfurt  Frankfurt    6501    6500  Frankfurt_0  Frankfurt_1   \n13  Frankfurt  Frankfurt    6501    6500  Frankfurt_0  Frankfurt_1   \n14  Frankfurt  Frankfurt    6501    6500  Frankfurt_0  Frankfurt_1   \n15  Frankfurt  Frankfurt    6501    6500  Frankfurt_0  Frankfurt_1   \n16  Frankfurt  Frankfurt    6501    6500  Frankfurt_0  Frankfurt_1   \n17  Frankfurt  Frankfurt    6501    6500  Frankfurt_0  Frankfurt_1   \n18  Frankfurt  Frankfurt    6501    6500  Frankfurt_0  Frankfurt_1   \n19  Frankfurt  Frankfurt    6501    6500  Frankfurt_0  Frankfurt_1   \n\n              BW  \n10  1.296666e+06  \n11  8.565613e+05  \n12  7.307657e+05  \n13  5.605154e+05  \n14  5.547593e+05  \n15  4.275092e+05  \n16  4.310318e+05  \n17  4.943914e+05  \n18  4.873768e+05  \n19  5.984367e+05  "
         },
         "metadata": {},
         "output_type": "display_data"
        }
       ]
      }
     },
     "e19a4068f00f440cb0d5a6cc62a85c77": {
      "model_module": "@jupyter-widgets/base",
      "model_module_version": "1.2.0",
      "model_name": "LayoutModel",
      "state": {}
     },
     "e4387665141347b5a31544ec187d54ca": {
      "model_module": "@jupyter-widgets/controls",
      "model_module_version": "1.5.0",
      "model_name": "DescriptionStyleModel",
      "state": {
       "description_width": ""
      }
     },
     "e44bca91c10a480695a12a186cea036e": {
      "model_module": "@jupyter-widgets/controls",
      "model_module_version": "1.5.0",
      "model_name": "ButtonStyleModel",
      "state": {}
     },
     "e64967c7e7c0447fadd5eb80507e6eaa": {
      "model_module": "@jupyter-widgets/controls",
      "model_module_version": "1.5.0",
      "model_name": "HBoxModel",
      "state": {
       "children": [
        "IPY_MODEL_85fe5b95d80246fab21ec20abc4def6a",
        "IPY_MODEL_28c51f2cbbc8481faac33fa89d23ddd6"
       ],
       "layout": "IPY_MODEL_5b91e70a57dc4ec099d3924f5b2d0bd9"
      }
     },
     "e76daa32ef5742848cea7739094e1e92": {
      "model_module": "@jupyter-widgets/controls",
      "model_module_version": "1.5.0",
      "model_name": "SelectMultipleModel",
      "state": {
       "_options_labels": [
        "None",
        "bgp:bgp"
       ],
       "index": [],
       "layout": "IPY_MODEL_df3d6e0d00e8459db32c85176632595d",
       "rows": 10,
       "style": "IPY_MODEL_075ed11d027f42c1ab798406eb62ef32"
      }
     },
     "e8d2c4d1f70d49a7a2c9c5d66578fdf2": {
      "model_module": "@jupyter-widgets/base",
      "model_module_version": "1.2.0",
      "model_name": "LayoutModel",
      "state": {}
     },
     "e966b9309595450aa9a2b69de8739932": {
      "model_module": "@jupyter-widgets/controls",
      "model_module_version": "1.5.0",
      "model_name": "HBoxModel",
      "state": {
       "children": [
        "IPY_MODEL_301f04a4fa65414ba473129f3adc3cf6",
        "IPY_MODEL_f2aa66026e4047819f2bed788fc4fa02",
        "IPY_MODEL_f9004c52723f4d2fbc5b1342acf6403c",
        "IPY_MODEL_dc9514e90ae44484a08f628b7af79171",
        "IPY_MODEL_bf10e0b2e43447a788b574db1695bd49",
        "IPY_MODEL_cbd5d03128834435aff7b1b1ff010b58",
        "IPY_MODEL_82ea501b0f504c6c8aeac76c83820c12",
        "IPY_MODEL_f0c1c5b504bc46198e4c8d2c3db387c8"
       ],
       "layout": "IPY_MODEL_f6bb3e130954498c8441d436e1a0d9cd"
      }
     },
     "e98ce4176f70420aa9fd8a9b790b68c1": {
      "model_module": "@jupyter-widgets/base",
      "model_module_version": "1.2.0",
      "model_name": "LayoutModel",
      "state": {}
     },
     "e9e4a94951aa4e2287feab5388f71956": {
      "model_module": "@jupyter-widgets/base",
      "model_module_version": "1.2.0",
      "model_name": "LayoutModel",
      "state": {
       "grid_area": "top-left"
      }
     },
     "ea6f6fcefb8a47878f1d2db14907c411": {
      "model_module": "@jupyter-widgets/base",
      "model_module_version": "1.2.0",
      "model_name": "LayoutModel",
      "state": {}
     },
     "eb1a00d678ee4005ad90f151055e467e": {
      "model_module": "@jupyter-widgets/controls",
      "model_module_version": "1.5.0",
      "model_name": "ButtonModel",
      "state": {
       "description": "Button2",
       "layout": "IPY_MODEL_d6c8fe446bbf4d10b70d28f268cd78a4",
       "style": "IPY_MODEL_c7dd2545bd2d4c8395dacf05e6090d75"
      }
     },
     "ecfe275e819e413e883c9aed6956e0dd": {
      "model_module": "@jupyter-widgets/controls",
      "model_module_version": "1.5.0",
      "model_name": "VBoxModel",
      "state": {
       "children": [
        "IPY_MODEL_34d8ef40da2b4f91b58fa42970ef8ff9",
        "IPY_MODEL_64e1edc685944910ad2db6a2f3313d6a"
       ],
       "layout": "IPY_MODEL_ceac20bd1e434c42ac9ea24f6bd89be7"
      }
     },
     "ef6246cabaab423cb2e538b7ebb18e58": {
      "model_module": "@jupyter-widgets/base",
      "model_module_version": "1.2.0",
      "model_name": "LayoutModel",
      "state": {
       "align_items": "center",
       "grid_template_areas": "\"top-left bottom-right\"\n\"bottom-left bottom-right\"",
       "grid_template_columns": "1fr 1fr",
       "grid_template_rows": "1fr 1fr",
       "height": "400px"
      }
     },
     "ef8d17527ba446189a273d68f1f23e27": {
      "model_module": "@jupyter-widgets/controls",
      "model_module_version": "1.5.0",
      "model_name": "DescriptionStyleModel",
      "state": {
       "description_width": ""
      }
     },
     "efbb07128344440fa47108e82452061b": {
      "model_module": "@jupyter-widgets/base",
      "model_module_version": "1.2.0",
      "model_name": "LayoutModel",
      "state": {}
     },
     "f0c1c5b504bc46198e4c8d2c3db387c8": {
      "model_module": "@jupyter-widgets/controls",
      "model_module_version": "1.5.0",
      "model_name": "CheckboxModel",
      "state": {
       "description": "SRC_ROUTER",
       "disabled": false,
       "layout": "IPY_MODEL_f895308971004e5396cf1bfcabaebf63",
       "style": "IPY_MODEL_8563eb854aba4d22ba6574be286c5d73",
       "value": false
      }
     },
     "f2aa66026e4047819f2bed788fc4fa02": {
      "model_module": "@jupyter-widgets/controls",
      "model_module_version": "1.5.0",
      "model_name": "CheckboxModel",
      "state": {
       "description": "DST_NET",
       "disabled": false,
       "layout": "IPY_MODEL_cd0474f4d85d468e8bb01b2a4cb061c1",
       "style": "IPY_MODEL_abc6c0bec7fd469089578a6e9e30627a",
       "value": false
      }
     },
     "f5b8f0ad1e88429bb34f32bf39bb298f": {
      "model_module": "@jupyter-widgets/controls",
      "model_module_version": "1.5.0",
      "model_name": "HBoxModel",
      "state": {
       "children": [
        "IPY_MODEL_210fb7c895584c21875ce63697938cb7"
       ],
       "layout": "IPY_MODEL_8a830f17e00d40c1bac72f2ec61c4827"
      }
     },
     "f6bb3e130954498c8441d436e1a0d9cd": {
      "model_module": "@jupyter-widgets/base",
      "model_module_version": "1.2.0",
      "model_name": "LayoutModel",
      "state": {
       "height": "50px",
       "overflow_x": "scroll",
       "width": "850px"
      }
     },
     "f895308971004e5396cf1bfcabaebf63": {
      "model_module": "@jupyter-widgets/base",
      "model_module_version": "1.2.0",
      "model_name": "LayoutModel",
      "state": {}
     },
     "f8c7a6acf6cc4e07b41f593b8dd337c6": {
      "model_module": "@jupyter-widgets/base",
      "model_module_version": "1.2.0",
      "model_name": "LayoutModel",
      "state": {}
     },
     "f8e6f766109649baa4bc50c14937e0b5": {
      "model_module": "@jupyter-widgets/controls",
      "model_module_version": "1.5.0",
      "model_name": "TextModel",
      "state": {
       "layout": "IPY_MODEL_c7d56e723d754ccaa38159bff3b604d6",
       "style": "IPY_MODEL_151780c38ad84ff8a82d83d5b3312bde",
       "value": "Caja de texto"
      }
     },
     "f9004c52723f4d2fbc5b1342acf6403c": {
      "model_module": "@jupyter-widgets/controls",
      "model_module_version": "1.5.0",
      "model_name": "CheckboxModel",
      "state": {
       "description": "DST_ROUTER",
       "disabled": false,
       "layout": "IPY_MODEL_0f3c40f9eb1c4dd39250ecc0a8f6611a",
       "style": "IPY_MODEL_05129aaa916c47b4a7e43b9140c1e2a1",
       "value": false
      }
     },
     "fb3cf7945498440b96065eac37d9f24e": {
      "model_module": "@jupyter-widgets/base",
      "model_module_version": "1.2.0",
      "model_name": "LayoutModel",
      "state": {}
     },
     "fbd12170201f43e0b2406542e9b0ddc7": {
      "model_module": "@jupyter-widgets/base",
      "model_module_version": "1.2.0",
      "model_name": "LayoutModel",
      "state": {}
     },
     "fde823868d0a498f8f0323dbdfad3abd": {
      "model_module": "@jupyter-widgets/controls",
      "model_module_version": "1.5.0",
      "model_name": "TabModel",
      "state": {
       "_titles": {
        "0": "Titulo",
        "1": "APP"
       },
       "children": [
        "IPY_MODEL_c23bd5959bfa4579b846f6740d6bd11e",
        "IPY_MODEL_596d22ac1fcc4cf5b2893e18f7149d81"
       ],
       "layout": "IPY_MODEL_612be4d548a5421fbce1934df2bc6804"
      }
     }
    },
    "version_major": 2,
    "version_minor": 0
   }
  }
 },
 "nbformat": 4,
 "nbformat_minor": 2
}
